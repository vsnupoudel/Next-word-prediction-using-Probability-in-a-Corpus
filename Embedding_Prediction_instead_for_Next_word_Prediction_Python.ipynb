{
  "nbformat": 4,
  "nbformat_minor": 0,
  "metadata": {
    "colab": {
      "name": "Embedding Prediction instead for Next word Prediction Python.ipynb",
      "provenance": [],
      "collapsed_sections": [],
      "authorship_tag": "ABX9TyMucVV9C2AOAIL9Ke8TS+U8",
      "include_colab_link": true
    },
    "kernelspec": {
      "name": "python3",
      "display_name": "Python 3"
    },
    "language_info": {
      "name": "python"
    },
    "accelerator": "GPU"
  },
  "cells": [
    {
      "cell_type": "markdown",
      "metadata": {
        "id": "view-in-github",
        "colab_type": "text"
      },
      "source": [
        "<a href=\"https://colab.research.google.com/github/vsnupoudel/data-science-capstone-JohnsHopkins/blob/master/Embedding_Prediction_instead_for_Next_word_Prediction_Python.ipynb\" target=\"_parent\"><img src=\"https://colab.research.google.com/assets/colab-badge.svg\" alt=\"Open In Colab\"/></a>"
      ]
    },
    {
      "cell_type": "markdown",
      "metadata": {
        "id": "nOoJJ05CcVjc"
      },
      "source": [
        "Download the text files and the Embedding file"
      ]
    },
    {
      "cell_type": "code",
      "metadata": {
        "colab": {
          "base_uri": "https://localhost:8080/"
        },
        "id": "jly78TXbcZfh",
        "outputId": "4c4f3c13-06ec-4126-ef42-39b930545a20"
      },
      "source": [
        "!gdown --id 1hlvOXJqe3fdxjQilNfLRwPud_KWcOVEE -O '/content/en_US.zip'"
      ],
      "execution_count": 4,
      "outputs": [
        {
          "output_type": "stream",
          "text": [
            "Downloading...\n",
            "From: https://drive.google.com/uc?id=1hlvOXJqe3fdxjQilNfLRwPud_KWcOVEE\n",
            "To: /content/en_US.zip\n",
            "262MB [00:08, 30.8MB/s]\n"
          ],
          "name": "stdout"
        }
      ]
    },
    {
      "cell_type": "code",
      "metadata": {
        "colab": {
          "base_uri": "https://localhost:8080/"
        },
        "id": "EoxZk98icm0z",
        "outputId": "6de1ad55-e498-467e-f3fe-30b7ca68ca69"
      },
      "source": [
        "!unzip -o en_US.zip "
      ],
      "execution_count": 5,
      "outputs": [
        {
          "output_type": "stream",
          "text": [
            "Archive:  en_US.zip\n",
            "  inflating: en_US/en_US.blogs.txt   \n",
            "  inflating: en_US/en_US.news.txt    \n",
            "  inflating: en_US/en_US.twitter.txt  \n"
          ],
          "name": "stdout"
        }
      ]
    },
    {
      "cell_type": "code",
      "metadata": {
        "colab": {
          "base_uri": "https://localhost:8080/"
        },
        "id": "8wwWG4ywdvER",
        "outputId": "d1456df6-96ba-4c05-c285-a31607f4a155"
      },
      "source": [
        "!gdown --id 1r3MHZdvnlC_BG8z6Jr1td-zJTC2GdqYK -O 'glove.6B.50d.txt' "
      ],
      "execution_count": 6,
      "outputs": [
        {
          "output_type": "stream",
          "text": [
            "Downloading...\n",
            "From: https://drive.google.com/uc?id=1r3MHZdvnlC_BG8z6Jr1td-zJTC2GdqYK\n",
            "To: /content/glove.6B.50d.txt\n",
            "171MB [00:01, 130MB/s] \n"
          ],
          "name": "stdout"
        }
      ]
    },
    {
      "cell_type": "code",
      "metadata": {
        "id": "8JtXXgwRpTKq"
      },
      "source": [
        "# # establish connections with three files \n",
        "with open('./en_US/en_US.blogs.txt','r') as f:\n",
        "  blogs= f.readlines(199999)"
      ],
      "execution_count": 7,
      "outputs": []
    },
    {
      "cell_type": "markdown",
      "metadata": {
        "id": "XCNL7F2QvVXl"
      },
      "source": [
        "References :\n",
        "\n",
        "\n",
        " [Towards Data Science Article](https://towardsdatascience.com/exploring-the-next-word-predictor-5e22aeb85d8f)\n",
        "\n",
        "[Machine Learning Mastery](https://machinelearningmastery.com/use-word-embedding-layers-deep-learning-keras/)"
      ]
    },
    {
      "cell_type": "code",
      "metadata": {
        "id": "KNa3bMDZUb_l"
      },
      "source": [
        "string = ' '.join(blogs) \n",
        "del blogs"
      ],
      "execution_count": 8,
      "outputs": []
    },
    {
      "cell_type": "code",
      "metadata": {
        "id": "2_PmoDGupTay"
      },
      "source": [
        "from keras.preprocessing.text import Tokenizer\n",
        "import nltk\n",
        "from nltk.tokenize import word_tokenize\n",
        "import numpy as np\n",
        "import re\n",
        "# from keras.utils import to_categorical"
      ],
      "execution_count": 9,
      "outputs": []
    },
    {
      "cell_type": "code",
      "metadata": {
        "colab": {
          "base_uri": "https://localhost:8080/"
        },
        "id": "Jb49Std7z2Nk",
        "outputId": "432a2263-a37a-4939-f390-a484400326e8"
      },
      "source": [
        "nltk.download('punkt')"
      ],
      "execution_count": 10,
      "outputs": [
        {
          "output_type": "stream",
          "text": [
            "[nltk_data] Downloading package punkt to /root/nltk_data...\n",
            "[nltk_data]   Unzipping tokenizers/punkt.zip.\n"
          ],
          "name": "stdout"
        },
        {
          "output_type": "execute_result",
          "data": {
            "text/plain": [
              "True"
            ]
          },
          "metadata": {
            "tags": []
          },
          "execution_count": 10
        }
      ]
    },
    {
      "cell_type": "markdown",
      "metadata": {
        "id": "jJAH7pKnqKPv"
      },
      "source": [
        "Removing non word characters"
      ]
    },
    {
      "cell_type": "code",
      "metadata": {
        "id": "SwpiBsdEpiUe"
      },
      "source": [
        "string = re.sub(pattern='\\W+', repl=\" \", string = string ).lower()"
      ],
      "execution_count": 11,
      "outputs": []
    },
    {
      "cell_type": "markdown",
      "metadata": {
        "id": "nsJXJLtmzc1a"
      },
      "source": [
        "Tokenize and generate ngrams"
      ]
    },
    {
      "cell_type": "code",
      "metadata": {
        "id": "pFRmyvG5tO42"
      },
      "source": [
        "tokens = word_tokenize(string)\n",
        "train_len = 3\n",
        "text_sequences = []\n",
        "\n",
        "for i in range(train_len,len(tokens)):\n",
        "  seq = tokens[i-train_len:i]\n",
        "  text_sequences.append(seq)"
      ],
      "execution_count": 12,
      "outputs": []
    },
    {
      "cell_type": "code",
      "metadata": {
        "colab": {
          "base_uri": "https://localhost:8080/"
        },
        "id": "mzYJXOSoLrbf",
        "outputId": "2b5d5456-edc4-48ac-c6a6-8ccea637fec5"
      },
      "source": [
        "text_sequences[0:5]"
      ],
      "execution_count": 13,
      "outputs": [
        {
          "output_type": "execute_result",
          "data": {
            "text/plain": [
              "[['in', 'the', 'years'],\n",
              " ['the', 'years', 'thereafter'],\n",
              " ['years', 'thereafter', 'most'],\n",
              " ['thereafter', 'most', 'of'],\n",
              " ['most', 'of', 'the']]"
            ]
          },
          "metadata": {
            "tags": []
          },
          "execution_count": 13
        }
      ]
    },
    {
      "cell_type": "markdown",
      "metadata": {
        "id": "857n8SrgAq8a"
      },
      "source": [
        "Read in 50 dimensional embeddings"
      ]
    },
    {
      "cell_type": "code",
      "metadata": {
        "colab": {
          "base_uri": "https://localhost:8080/",
          "height": 126
        },
        "id": "xduyO2LPApt2",
        "outputId": "65ec9bef-b1f8-43b1-95db-5acfa7a44707"
      },
      "source": [
        "import pandas as pd\n",
        "import numpy as np\n",
        "colnames = ['word']+[ 'dim_'+str(i) for i in range(1,51)]\n",
        "Embed50 = pd.read_csv('glove.6B.50d.txt', engine='python'\n",
        "                  ,header=None, delim_whitespace=True ,\n",
        "                  names = colnames)\n",
        "Embed50.head(2)"
      ],
      "execution_count": 14,
      "outputs": [
        {
          "output_type": "execute_result",
          "data": {
            "text/html": [
              "<div>\n",
              "<style scoped>\n",
              "    .dataframe tbody tr th:only-of-type {\n",
              "        vertical-align: middle;\n",
              "    }\n",
              "\n",
              "    .dataframe tbody tr th {\n",
              "        vertical-align: top;\n",
              "    }\n",
              "\n",
              "    .dataframe thead th {\n",
              "        text-align: right;\n",
              "    }\n",
              "</style>\n",
              "<table border=\"1\" class=\"dataframe\">\n",
              "  <thead>\n",
              "    <tr style=\"text-align: right;\">\n",
              "      <th></th>\n",
              "      <th>word</th>\n",
              "      <th>dim_1</th>\n",
              "      <th>dim_2</th>\n",
              "      <th>dim_3</th>\n",
              "      <th>dim_4</th>\n",
              "      <th>dim_5</th>\n",
              "      <th>dim_6</th>\n",
              "      <th>dim_7</th>\n",
              "      <th>dim_8</th>\n",
              "      <th>dim_9</th>\n",
              "      <th>dim_10</th>\n",
              "      <th>dim_11</th>\n",
              "      <th>dim_12</th>\n",
              "      <th>dim_13</th>\n",
              "      <th>dim_14</th>\n",
              "      <th>dim_15</th>\n",
              "      <th>dim_16</th>\n",
              "      <th>dim_17</th>\n",
              "      <th>dim_18</th>\n",
              "      <th>dim_19</th>\n",
              "      <th>dim_20</th>\n",
              "      <th>dim_21</th>\n",
              "      <th>dim_22</th>\n",
              "      <th>dim_23</th>\n",
              "      <th>dim_24</th>\n",
              "      <th>dim_25</th>\n",
              "      <th>dim_26</th>\n",
              "      <th>dim_27</th>\n",
              "      <th>dim_28</th>\n",
              "      <th>dim_29</th>\n",
              "      <th>dim_30</th>\n",
              "      <th>dim_31</th>\n",
              "      <th>dim_32</th>\n",
              "      <th>dim_33</th>\n",
              "      <th>dim_34</th>\n",
              "      <th>dim_35</th>\n",
              "      <th>dim_36</th>\n",
              "      <th>dim_37</th>\n",
              "      <th>dim_38</th>\n",
              "      <th>dim_39</th>\n",
              "      <th>dim_40</th>\n",
              "      <th>dim_41</th>\n",
              "      <th>dim_42</th>\n",
              "      <th>dim_43</th>\n",
              "      <th>dim_44</th>\n",
              "      <th>dim_45</th>\n",
              "      <th>dim_46</th>\n",
              "      <th>dim_47</th>\n",
              "      <th>dim_48</th>\n",
              "      <th>dim_49</th>\n",
              "      <th>dim_50</th>\n",
              "    </tr>\n",
              "  </thead>\n",
              "  <tbody>\n",
              "    <tr>\n",
              "      <th>0</th>\n",
              "      <td>the</td>\n",
              "      <td>0.418000</td>\n",
              "      <td>0.24968</td>\n",
              "      <td>-0.41242</td>\n",
              "      <td>0.12170</td>\n",
              "      <td>0.34527</td>\n",
              "      <td>-0.044457</td>\n",
              "      <td>-0.49688</td>\n",
              "      <td>-0.17862</td>\n",
              "      <td>-0.00066</td>\n",
              "      <td>-0.65660</td>\n",
              "      <td>0.27843</td>\n",
              "      <td>-0.147670</td>\n",
              "      <td>-0.55677</td>\n",
              "      <td>0.14658</td>\n",
              "      <td>-0.00951</td>\n",
              "      <td>0.011658</td>\n",
              "      <td>0.10204</td>\n",
              "      <td>-0.127920</td>\n",
              "      <td>-0.84430</td>\n",
              "      <td>-0.12181</td>\n",
              "      <td>-0.016801</td>\n",
              "      <td>-0.33279</td>\n",
              "      <td>-0.15520</td>\n",
              "      <td>-0.23131</td>\n",
              "      <td>-0.191810</td>\n",
              "      <td>-1.8823</td>\n",
              "      <td>-0.76746</td>\n",
              "      <td>0.099051</td>\n",
              "      <td>-0.421250</td>\n",
              "      <td>-0.19526</td>\n",
              "      <td>4.0071</td>\n",
              "      <td>-0.18594</td>\n",
              "      <td>-0.522870</td>\n",
              "      <td>-0.31681</td>\n",
              "      <td>0.000592</td>\n",
              "      <td>0.007445</td>\n",
              "      <td>0.17778</td>\n",
              "      <td>-0.15897</td>\n",
              "      <td>0.012041</td>\n",
              "      <td>-0.054223</td>\n",
              "      <td>-0.298710</td>\n",
              "      <td>-0.15749</td>\n",
              "      <td>-0.34758</td>\n",
              "      <td>-0.045637</td>\n",
              "      <td>-0.44251</td>\n",
              "      <td>0.18785</td>\n",
              "      <td>0.002785</td>\n",
              "      <td>-0.18411</td>\n",
              "      <td>-0.115140</td>\n",
              "      <td>-0.78581</td>\n",
              "    </tr>\n",
              "    <tr>\n",
              "      <th>1</th>\n",
              "      <td>,</td>\n",
              "      <td>0.013441</td>\n",
              "      <td>0.23682</td>\n",
              "      <td>-0.16899</td>\n",
              "      <td>0.40951</td>\n",
              "      <td>0.63812</td>\n",
              "      <td>0.477090</td>\n",
              "      <td>-0.42852</td>\n",
              "      <td>-0.55641</td>\n",
              "      <td>-0.36400</td>\n",
              "      <td>-0.23938</td>\n",
              "      <td>0.13001</td>\n",
              "      <td>-0.063734</td>\n",
              "      <td>-0.39575</td>\n",
              "      <td>-0.48162</td>\n",
              "      <td>0.23291</td>\n",
              "      <td>0.090201</td>\n",
              "      <td>-0.13324</td>\n",
              "      <td>0.078639</td>\n",
              "      <td>-0.41634</td>\n",
              "      <td>-0.15428</td>\n",
              "      <td>0.100680</td>\n",
              "      <td>0.48891</td>\n",
              "      <td>0.31226</td>\n",
              "      <td>-0.12520</td>\n",
              "      <td>-0.037512</td>\n",
              "      <td>-1.5179</td>\n",
              "      <td>0.12612</td>\n",
              "      <td>-0.024420</td>\n",
              "      <td>-0.042961</td>\n",
              "      <td>-0.28351</td>\n",
              "      <td>3.5416</td>\n",
              "      <td>-0.11956</td>\n",
              "      <td>-0.014533</td>\n",
              "      <td>-0.14990</td>\n",
              "      <td>0.218640</td>\n",
              "      <td>-0.334120</td>\n",
              "      <td>-0.13872</td>\n",
              "      <td>0.31806</td>\n",
              "      <td>0.703580</td>\n",
              "      <td>0.448580</td>\n",
              "      <td>-0.080262</td>\n",
              "      <td>0.63003</td>\n",
              "      <td>0.32111</td>\n",
              "      <td>-0.467650</td>\n",
              "      <td>0.22786</td>\n",
              "      <td>0.36034</td>\n",
              "      <td>-0.378180</td>\n",
              "      <td>-0.56657</td>\n",
              "      <td>0.044691</td>\n",
              "      <td>0.30392</td>\n",
              "    </tr>\n",
              "  </tbody>\n",
              "</table>\n",
              "</div>"
            ],
            "text/plain": [
              "  word     dim_1    dim_2    dim_3  ...    dim_47   dim_48    dim_49   dim_50\n",
              "0  the  0.418000  0.24968 -0.41242  ...  0.002785 -0.18411 -0.115140 -0.78581\n",
              "1    ,  0.013441  0.23682 -0.16899  ... -0.378180 -0.56657  0.044691  0.30392\n",
              "\n",
              "[2 rows x 51 columns]"
            ]
          },
          "metadata": {
            "tags": []
          },
          "execution_count": 14
        }
      ]
    },
    {
      "cell_type": "markdown",
      "metadata": {
        "id": "kk79tGR4_NHF"
      },
      "source": [
        "Tokenizer class from keras.preprocessing.text"
      ]
    },
    {
      "cell_type": "code",
      "metadata": {
        "id": "ee8a7oiRUI79"
      },
      "source": [
        "# del tokens\n",
        "# del seq\n",
        "# del string"
      ],
      "execution_count": 15,
      "outputs": []
    },
    {
      "cell_type": "markdown",
      "metadata": {
        "id": "Snk535GPcwWE"
      },
      "source": [
        "Delete those rows which have words, that are not there in the pretrained embeddings. Found 100 such sequences"
      ]
    },
    {
      "cell_type": "code",
      "metadata": {
        "id": "nLsp8HhuAo-J"
      },
      "source": [
        "embedlist = list(Embed50.word)\n",
        "delete_list = []\n",
        "for seq in text_sequences:\n",
        "  check =  all(item in embedlist for item in seq)\n",
        "  if not check:\n",
        "    delete_list.append(seq)\n",
        "\n",
        "text_sequences_del = [x for x in text_sequences if x not in delete_list]\n",
        "del text_sequences"
      ],
      "execution_count": 16,
      "outputs": []
    },
    {
      "cell_type": "code",
      "metadata": {
        "id": "JmEqMAifzJcU"
      },
      "source": [
        "tokenizer = Tokenizer()\n",
        "tokenizer.fit_on_texts(text_sequences_del)\n",
        "sequences = tokenizer.texts_to_sequences(text_sequences_del)\n",
        "#vocabulary size increased by 1 \n",
        "vocabulary_size = len(tokenizer.word_counts)+1\n",
        "n_sequences = np.asarray ( sequences , dtype='int32')"
      ],
      "execution_count": 17,
      "outputs": []
    },
    {
      "cell_type": "code",
      "metadata": {
        "id": "5kzTW4JyPio0"
      },
      "source": [
        "dic = pd.DataFrame( tokenizer.word_index.items(), columns= ['word','index'])"
      ],
      "execution_count": 18,
      "outputs": []
    },
    {
      "cell_type": "code",
      "metadata": {
        "colab": {
          "base_uri": "https://localhost:8080/",
          "height": 106
        },
        "id": "PTIglsHUyyXZ",
        "outputId": "d11959c4-e3bb-4124-c886-deebabfb9b62"
      },
      "source": [
        "dic.head(2)"
      ],
      "execution_count": 19,
      "outputs": [
        {
          "output_type": "execute_result",
          "data": {
            "text/html": [
              "<div>\n",
              "<style scoped>\n",
              "    .dataframe tbody tr th:only-of-type {\n",
              "        vertical-align: middle;\n",
              "    }\n",
              "\n",
              "    .dataframe tbody tr th {\n",
              "        vertical-align: top;\n",
              "    }\n",
              "\n",
              "    .dataframe thead th {\n",
              "        text-align: right;\n",
              "    }\n",
              "</style>\n",
              "<table border=\"1\" class=\"dataframe\">\n",
              "  <thead>\n",
              "    <tr style=\"text-align: right;\">\n",
              "      <th></th>\n",
              "      <th>word</th>\n",
              "      <th>index</th>\n",
              "    </tr>\n",
              "  </thead>\n",
              "  <tbody>\n",
              "    <tr>\n",
              "      <th>0</th>\n",
              "      <td>the</td>\n",
              "      <td>1</td>\n",
              "    </tr>\n",
              "    <tr>\n",
              "      <th>1</th>\n",
              "      <td>to</td>\n",
              "      <td>2</td>\n",
              "    </tr>\n",
              "  </tbody>\n",
              "</table>\n",
              "</div>"
            ],
            "text/plain": [
              "  word  index\n",
              "0  the      1\n",
              "1   to      2"
            ]
          },
          "metadata": {
            "tags": []
          },
          "execution_count": 19
        }
      ]
    },
    {
      "cell_type": "code",
      "metadata": {
        "colab": {
          "base_uri": "https://localhost:8080/",
          "height": 126
        },
        "id": "QWB4ICtluqm4",
        "outputId": "2ce66502-4efb-461c-ced2-6e620fabeddf"
      },
      "source": [
        "Embed50.head(2)"
      ],
      "execution_count": 32,
      "outputs": [
        {
          "output_type": "execute_result",
          "data": {
            "text/html": [
              "<div>\n",
              "<style scoped>\n",
              "    .dataframe tbody tr th:only-of-type {\n",
              "        vertical-align: middle;\n",
              "    }\n",
              "\n",
              "    .dataframe tbody tr th {\n",
              "        vertical-align: top;\n",
              "    }\n",
              "\n",
              "    .dataframe thead th {\n",
              "        text-align: right;\n",
              "    }\n",
              "</style>\n",
              "<table border=\"1\" class=\"dataframe\">\n",
              "  <thead>\n",
              "    <tr style=\"text-align: right;\">\n",
              "      <th></th>\n",
              "      <th>word</th>\n",
              "      <th>dim_1</th>\n",
              "      <th>dim_2</th>\n",
              "      <th>dim_3</th>\n",
              "      <th>dim_4</th>\n",
              "      <th>dim_5</th>\n",
              "      <th>dim_6</th>\n",
              "      <th>dim_7</th>\n",
              "      <th>dim_8</th>\n",
              "      <th>dim_9</th>\n",
              "      <th>dim_10</th>\n",
              "      <th>dim_11</th>\n",
              "      <th>dim_12</th>\n",
              "      <th>dim_13</th>\n",
              "      <th>dim_14</th>\n",
              "      <th>dim_15</th>\n",
              "      <th>dim_16</th>\n",
              "      <th>dim_17</th>\n",
              "      <th>dim_18</th>\n",
              "      <th>dim_19</th>\n",
              "      <th>dim_20</th>\n",
              "      <th>dim_21</th>\n",
              "      <th>dim_22</th>\n",
              "      <th>dim_23</th>\n",
              "      <th>dim_24</th>\n",
              "      <th>dim_25</th>\n",
              "      <th>dim_26</th>\n",
              "      <th>dim_27</th>\n",
              "      <th>dim_28</th>\n",
              "      <th>dim_29</th>\n",
              "      <th>dim_30</th>\n",
              "      <th>dim_31</th>\n",
              "      <th>dim_32</th>\n",
              "      <th>dim_33</th>\n",
              "      <th>dim_34</th>\n",
              "      <th>dim_35</th>\n",
              "      <th>dim_36</th>\n",
              "      <th>dim_37</th>\n",
              "      <th>dim_38</th>\n",
              "      <th>dim_39</th>\n",
              "      <th>dim_40</th>\n",
              "      <th>dim_41</th>\n",
              "      <th>dim_42</th>\n",
              "      <th>dim_43</th>\n",
              "      <th>dim_44</th>\n",
              "      <th>dim_45</th>\n",
              "      <th>dim_46</th>\n",
              "      <th>dim_47</th>\n",
              "      <th>dim_48</th>\n",
              "      <th>dim_49</th>\n",
              "      <th>dim_50</th>\n",
              "    </tr>\n",
              "  </thead>\n",
              "  <tbody>\n",
              "    <tr>\n",
              "      <th>0</th>\n",
              "      <td>the</td>\n",
              "      <td>0.418000</td>\n",
              "      <td>0.24968</td>\n",
              "      <td>-0.41242</td>\n",
              "      <td>0.12170</td>\n",
              "      <td>0.34527</td>\n",
              "      <td>-0.044457</td>\n",
              "      <td>-0.49688</td>\n",
              "      <td>-0.17862</td>\n",
              "      <td>-0.00066</td>\n",
              "      <td>-0.65660</td>\n",
              "      <td>0.27843</td>\n",
              "      <td>-0.147670</td>\n",
              "      <td>-0.55677</td>\n",
              "      <td>0.14658</td>\n",
              "      <td>-0.00951</td>\n",
              "      <td>0.011658</td>\n",
              "      <td>0.10204</td>\n",
              "      <td>-0.127920</td>\n",
              "      <td>-0.84430</td>\n",
              "      <td>-0.12181</td>\n",
              "      <td>-0.016801</td>\n",
              "      <td>-0.33279</td>\n",
              "      <td>-0.15520</td>\n",
              "      <td>-0.23131</td>\n",
              "      <td>-0.191810</td>\n",
              "      <td>-1.8823</td>\n",
              "      <td>-0.76746</td>\n",
              "      <td>0.099051</td>\n",
              "      <td>-0.421250</td>\n",
              "      <td>-0.19526</td>\n",
              "      <td>4.0071</td>\n",
              "      <td>-0.18594</td>\n",
              "      <td>-0.522870</td>\n",
              "      <td>-0.31681</td>\n",
              "      <td>0.000592</td>\n",
              "      <td>0.007445</td>\n",
              "      <td>0.17778</td>\n",
              "      <td>-0.15897</td>\n",
              "      <td>0.012041</td>\n",
              "      <td>-0.054223</td>\n",
              "      <td>-0.298710</td>\n",
              "      <td>-0.15749</td>\n",
              "      <td>-0.34758</td>\n",
              "      <td>-0.045637</td>\n",
              "      <td>-0.44251</td>\n",
              "      <td>0.18785</td>\n",
              "      <td>0.002785</td>\n",
              "      <td>-0.18411</td>\n",
              "      <td>-0.115140</td>\n",
              "      <td>-0.78581</td>\n",
              "    </tr>\n",
              "    <tr>\n",
              "      <th>1</th>\n",
              "      <td>,</td>\n",
              "      <td>0.013441</td>\n",
              "      <td>0.23682</td>\n",
              "      <td>-0.16899</td>\n",
              "      <td>0.40951</td>\n",
              "      <td>0.63812</td>\n",
              "      <td>0.477090</td>\n",
              "      <td>-0.42852</td>\n",
              "      <td>-0.55641</td>\n",
              "      <td>-0.36400</td>\n",
              "      <td>-0.23938</td>\n",
              "      <td>0.13001</td>\n",
              "      <td>-0.063734</td>\n",
              "      <td>-0.39575</td>\n",
              "      <td>-0.48162</td>\n",
              "      <td>0.23291</td>\n",
              "      <td>0.090201</td>\n",
              "      <td>-0.13324</td>\n",
              "      <td>0.078639</td>\n",
              "      <td>-0.41634</td>\n",
              "      <td>-0.15428</td>\n",
              "      <td>0.100680</td>\n",
              "      <td>0.48891</td>\n",
              "      <td>0.31226</td>\n",
              "      <td>-0.12520</td>\n",
              "      <td>-0.037512</td>\n",
              "      <td>-1.5179</td>\n",
              "      <td>0.12612</td>\n",
              "      <td>-0.024420</td>\n",
              "      <td>-0.042961</td>\n",
              "      <td>-0.28351</td>\n",
              "      <td>3.5416</td>\n",
              "      <td>-0.11956</td>\n",
              "      <td>-0.014533</td>\n",
              "      <td>-0.14990</td>\n",
              "      <td>0.218640</td>\n",
              "      <td>-0.334120</td>\n",
              "      <td>-0.13872</td>\n",
              "      <td>0.31806</td>\n",
              "      <td>0.703580</td>\n",
              "      <td>0.448580</td>\n",
              "      <td>-0.080262</td>\n",
              "      <td>0.63003</td>\n",
              "      <td>0.32111</td>\n",
              "      <td>-0.467650</td>\n",
              "      <td>0.22786</td>\n",
              "      <td>0.36034</td>\n",
              "      <td>-0.378180</td>\n",
              "      <td>-0.56657</td>\n",
              "      <td>0.044691</td>\n",
              "      <td>0.30392</td>\n",
              "    </tr>\n",
              "  </tbody>\n",
              "</table>\n",
              "</div>"
            ],
            "text/plain": [
              "  word     dim_1    dim_2    dim_3  ...    dim_47   dim_48    dim_49   dim_50\n",
              "0  the  0.418000  0.24968 -0.41242  ...  0.002785 -0.18411 -0.115140 -0.78581\n",
              "1    ,  0.013441  0.23682 -0.16899  ... -0.378180 -0.56657  0.044691  0.30392\n",
              "\n",
              "[2 rows x 51 columns]"
            ]
          },
          "metadata": {
            "tags": []
          },
          "execution_count": 32
        }
      ]
    },
    {
      "cell_type": "code",
      "metadata": {
        "id": "eg5Yl9ItukOr"
      },
      "source": [
        "word_embeds_pre = pd.merge(\n",
        "    left = dic,\n",
        "    right = Embed50 ,\n",
        "    how=\"inner\",\n",
        "    on=\"word\" ).iloc[: , 2:52] "
      ],
      "execution_count": null,
      "outputs": []
    },
    {
      "cell_type": "code",
      "metadata": {
        "colab": {
          "base_uri": "https://localhost:8080/"
        },
        "id": "ZyCjVZquX6Gb",
        "outputId": "97efc5df-96b7-4f73-8a7e-4870920290df"
      },
      "source": [
        "word_embeds_pre.shape"
      ],
      "execution_count": 21,
      "outputs": [
        {
          "output_type": "execute_result",
          "data": {
            "text/plain": [
              "(6957, 50)"
            ]
          },
          "metadata": {
            "tags": []
          },
          "execution_count": 21
        }
      ]
    },
    {
      "cell_type": "code",
      "metadata": {
        "colab": {
          "base_uri": "https://localhost:8080/",
          "height": 126
        },
        "id": "M0Hy5m4vMXQx",
        "outputId": "f9875c74-3fc2-4db7-8ef8-3cb1e03433a2"
      },
      "source": [
        "word_embeds_pre.head(2)"
      ],
      "execution_count": 22,
      "outputs": [
        {
          "output_type": "execute_result",
          "data": {
            "text/html": [
              "<div>\n",
              "<style scoped>\n",
              "    .dataframe tbody tr th:only-of-type {\n",
              "        vertical-align: middle;\n",
              "    }\n",
              "\n",
              "    .dataframe tbody tr th {\n",
              "        vertical-align: top;\n",
              "    }\n",
              "\n",
              "    .dataframe thead th {\n",
              "        text-align: right;\n",
              "    }\n",
              "</style>\n",
              "<table border=\"1\" class=\"dataframe\">\n",
              "  <thead>\n",
              "    <tr style=\"text-align: right;\">\n",
              "      <th></th>\n",
              "      <th>dim_1</th>\n",
              "      <th>dim_2</th>\n",
              "      <th>dim_3</th>\n",
              "      <th>dim_4</th>\n",
              "      <th>dim_5</th>\n",
              "      <th>dim_6</th>\n",
              "      <th>dim_7</th>\n",
              "      <th>dim_8</th>\n",
              "      <th>dim_9</th>\n",
              "      <th>dim_10</th>\n",
              "      <th>dim_11</th>\n",
              "      <th>dim_12</th>\n",
              "      <th>dim_13</th>\n",
              "      <th>dim_14</th>\n",
              "      <th>dim_15</th>\n",
              "      <th>dim_16</th>\n",
              "      <th>dim_17</th>\n",
              "      <th>dim_18</th>\n",
              "      <th>dim_19</th>\n",
              "      <th>dim_20</th>\n",
              "      <th>dim_21</th>\n",
              "      <th>dim_22</th>\n",
              "      <th>dim_23</th>\n",
              "      <th>dim_24</th>\n",
              "      <th>dim_25</th>\n",
              "      <th>dim_26</th>\n",
              "      <th>dim_27</th>\n",
              "      <th>dim_28</th>\n",
              "      <th>dim_29</th>\n",
              "      <th>dim_30</th>\n",
              "      <th>dim_31</th>\n",
              "      <th>dim_32</th>\n",
              "      <th>dim_33</th>\n",
              "      <th>dim_34</th>\n",
              "      <th>dim_35</th>\n",
              "      <th>dim_36</th>\n",
              "      <th>dim_37</th>\n",
              "      <th>dim_38</th>\n",
              "      <th>dim_39</th>\n",
              "      <th>dim_40</th>\n",
              "      <th>dim_41</th>\n",
              "      <th>dim_42</th>\n",
              "      <th>dim_43</th>\n",
              "      <th>dim_44</th>\n",
              "      <th>dim_45</th>\n",
              "      <th>dim_46</th>\n",
              "      <th>dim_47</th>\n",
              "      <th>dim_48</th>\n",
              "      <th>dim_49</th>\n",
              "      <th>dim_50</th>\n",
              "    </tr>\n",
              "  </thead>\n",
              "  <tbody>\n",
              "    <tr>\n",
              "      <th>0</th>\n",
              "      <td>0.41800</td>\n",
              "      <td>0.249680</td>\n",
              "      <td>-0.41242</td>\n",
              "      <td>0.12170</td>\n",
              "      <td>0.34527</td>\n",
              "      <td>-0.044457</td>\n",
              "      <td>-0.49688</td>\n",
              "      <td>-0.17862</td>\n",
              "      <td>-0.00066</td>\n",
              "      <td>-0.656600</td>\n",
              "      <td>0.27843</td>\n",
              "      <td>-0.14767</td>\n",
              "      <td>-0.55677</td>\n",
              "      <td>0.14658</td>\n",
              "      <td>-0.00951</td>\n",
              "      <td>0.011658</td>\n",
              "      <td>0.102040</td>\n",
              "      <td>-0.12792</td>\n",
              "      <td>-0.84430</td>\n",
              "      <td>-0.12181</td>\n",
              "      <td>-0.016801</td>\n",
              "      <td>-0.33279</td>\n",
              "      <td>-0.15520</td>\n",
              "      <td>-0.23131</td>\n",
              "      <td>-0.191810</td>\n",
              "      <td>-1.8823</td>\n",
              "      <td>-0.76746</td>\n",
              "      <td>0.099051</td>\n",
              "      <td>-0.42125</td>\n",
              "      <td>-0.19526</td>\n",
              "      <td>4.0071</td>\n",
              "      <td>-0.18594</td>\n",
              "      <td>-0.52287</td>\n",
              "      <td>-0.31681</td>\n",
              "      <td>0.000592</td>\n",
              "      <td>0.007445</td>\n",
              "      <td>0.17778</td>\n",
              "      <td>-0.158970</td>\n",
              "      <td>0.012041</td>\n",
              "      <td>-0.054223</td>\n",
              "      <td>-0.298710</td>\n",
              "      <td>-0.157490</td>\n",
              "      <td>-0.34758</td>\n",
              "      <td>-0.045637</td>\n",
              "      <td>-0.44251</td>\n",
              "      <td>0.187850</td>\n",
              "      <td>0.002785</td>\n",
              "      <td>-0.184110</td>\n",
              "      <td>-0.115140</td>\n",
              "      <td>-0.78581</td>\n",
              "    </tr>\n",
              "    <tr>\n",
              "      <th>1</th>\n",
              "      <td>0.68047</td>\n",
              "      <td>-0.039263</td>\n",
              "      <td>0.30186</td>\n",
              "      <td>-0.17792</td>\n",
              "      <td>0.42962</td>\n",
              "      <td>0.032246</td>\n",
              "      <td>-0.41376</td>\n",
              "      <td>0.13228</td>\n",
              "      <td>-0.29847</td>\n",
              "      <td>-0.085253</td>\n",
              "      <td>0.17118</td>\n",
              "      <td>0.22419</td>\n",
              "      <td>-0.10046</td>\n",
              "      <td>-0.43653</td>\n",
              "      <td>0.33418</td>\n",
              "      <td>0.678460</td>\n",
              "      <td>0.057204</td>\n",
              "      <td>-0.34448</td>\n",
              "      <td>-0.42785</td>\n",
              "      <td>-0.43275</td>\n",
              "      <td>0.559630</td>\n",
              "      <td>0.10032</td>\n",
              "      <td>0.18677</td>\n",
              "      <td>-0.26854</td>\n",
              "      <td>0.037334</td>\n",
              "      <td>-2.0932</td>\n",
              "      <td>0.22171</td>\n",
              "      <td>-0.398680</td>\n",
              "      <td>0.20912</td>\n",
              "      <td>-0.55725</td>\n",
              "      <td>3.8826</td>\n",
              "      <td>0.47466</td>\n",
              "      <td>-0.95658</td>\n",
              "      <td>-0.37788</td>\n",
              "      <td>0.208690</td>\n",
              "      <td>-0.327520</td>\n",
              "      <td>0.12751</td>\n",
              "      <td>0.088359</td>\n",
              "      <td>0.163510</td>\n",
              "      <td>-0.216340</td>\n",
              "      <td>-0.094375</td>\n",
              "      <td>0.018324</td>\n",
              "      <td>0.21048</td>\n",
              "      <td>-0.030880</td>\n",
              "      <td>-0.19722</td>\n",
              "      <td>0.082279</td>\n",
              "      <td>-0.094340</td>\n",
              "      <td>-0.073297</td>\n",
              "      <td>-0.064699</td>\n",
              "      <td>-0.26044</td>\n",
              "    </tr>\n",
              "  </tbody>\n",
              "</table>\n",
              "</div>"
            ],
            "text/plain": [
              "     dim_1     dim_2    dim_3    dim_4  ...    dim_47    dim_48    dim_49   dim_50\n",
              "0  0.41800  0.249680 -0.41242  0.12170  ...  0.002785 -0.184110 -0.115140 -0.78581\n",
              "1  0.68047 -0.039263  0.30186 -0.17792  ... -0.094340 -0.073297 -0.064699 -0.26044\n",
              "\n",
              "[2 rows x 50 columns]"
            ]
          },
          "metadata": {
            "tags": []
          },
          "execution_count": 22
        }
      ]
    },
    {
      "cell_type": "code",
      "metadata": {
        "id": "t_PMKSWl3RQP"
      },
      "source": [
        "# X and Y\n",
        "train_inputs = n_sequences[:,:-1]\n",
        "train_targets = n_sequences[:,-1]\n",
        "# train_targets = to_categorical(  train_targets \n",
        "#                               , num_classes = vocabulary_size  )\n",
        "seq_len = train_inputs.shape[1]"
      ],
      "execution_count": 23,
      "outputs": []
    },
    {
      "cell_type": "code",
      "metadata": {
        "colab": {
          "base_uri": "https://localhost:8080/"
        },
        "id": "XVrlacSr0mmV",
        "outputId": "06702717-df2b-4c13-8088-d8133c94453a"
      },
      "source": [
        "train_inputs.shape"
      ],
      "execution_count": 24,
      "outputs": [
        {
          "output_type": "execute_result",
          "data": {
            "text/plain": [
              "(36584, 2)"
            ]
          },
          "metadata": {
            "tags": []
          },
          "execution_count": 24
        }
      ]
    },
    {
      "cell_type": "code",
      "metadata": {
        "colab": {
          "base_uri": "https://localhost:8080/"
        },
        "id": "kneGfEEx0b6R",
        "outputId": "2bf822a5-5031-45a7-9720-3bb58f7e2373"
      },
      "source": [
        "train_targets.shape"
      ],
      "execution_count": 25,
      "outputs": [
        {
          "output_type": "execute_result",
          "data": {
            "text/plain": [
              "(36584,)"
            ]
          },
          "metadata": {
            "tags": []
          },
          "execution_count": 25
        }
      ]
    },
    {
      "cell_type": "code",
      "metadata": {
        "id": "qZpVvRC1s8wi"
      },
      "source": [
        ""
      ],
      "execution_count": 29,
      "outputs": []
    },
    {
      "cell_type": "code",
      "metadata": {
        "colab": {
          "base_uri": "https://localhost:8080/",
          "height": 106
        },
        "id": "fz2KhLIpvdOL",
        "outputId": "7ec3d5a2-4f31-4241-bc4f-b36ec0a7e5a3"
      },
      "source": [
        "y_list = list( np.asarray( text_sequences_del)[: , -1])\n",
        "ydf = pd.DataFrame( data = y_list, columns = ['word'])\n",
        "ydf.head(2)"
      ],
      "execution_count": 46,
      "outputs": [
        {
          "output_type": "execute_result",
          "data": {
            "text/html": [
              "<div>\n",
              "<style scoped>\n",
              "    .dataframe tbody tr th:only-of-type {\n",
              "        vertical-align: middle;\n",
              "    }\n",
              "\n",
              "    .dataframe tbody tr th {\n",
              "        vertical-align: top;\n",
              "    }\n",
              "\n",
              "    .dataframe thead th {\n",
              "        text-align: right;\n",
              "    }\n",
              "</style>\n",
              "<table border=\"1\" class=\"dataframe\">\n",
              "  <thead>\n",
              "    <tr style=\"text-align: right;\">\n",
              "      <th></th>\n",
              "      <th>word</th>\n",
              "    </tr>\n",
              "  </thead>\n",
              "  <tbody>\n",
              "    <tr>\n",
              "      <th>0</th>\n",
              "      <td>years</td>\n",
              "    </tr>\n",
              "    <tr>\n",
              "      <th>1</th>\n",
              "      <td>thereafter</td>\n",
              "    </tr>\n",
              "  </tbody>\n",
              "</table>\n",
              "</div>"
            ],
            "text/plain": [
              "         word\n",
              "0       years\n",
              "1  thereafter"
            ]
          },
          "metadata": {
            "tags": []
          },
          "execution_count": 46
        }
      ]
    },
    {
      "cell_type": "code",
      "metadata": {
        "id": "Uwi9-TSgtU9C"
      },
      "source": [
        "outcome = pd.merge(\n",
        "    left = ydf,\n",
        "    right = Embed50 ,\n",
        "    how=\"left\",\n",
        "    on='word' )\n",
        "\n",
        "train_targets = outcome.iloc[: , 1:52] "
      ],
      "execution_count": 49,
      "outputs": []
    },
    {
      "cell_type": "code",
      "metadata": {
        "colab": {
          "base_uri": "https://localhost:8080/",
          "height": 126
        },
        "id": "IFHULgiQuSaR",
        "outputId": "c3cbf710-9e01-477e-972d-306d0bc6c067"
      },
      "source": [
        "train_targets.head(2)"
      ],
      "execution_count": 50,
      "outputs": [
        {
          "output_type": "execute_result",
          "data": {
            "text/html": [
              "<div>\n",
              "<style scoped>\n",
              "    .dataframe tbody tr th:only-of-type {\n",
              "        vertical-align: middle;\n",
              "    }\n",
              "\n",
              "    .dataframe tbody tr th {\n",
              "        vertical-align: top;\n",
              "    }\n",
              "\n",
              "    .dataframe thead th {\n",
              "        text-align: right;\n",
              "    }\n",
              "</style>\n",
              "<table border=\"1\" class=\"dataframe\">\n",
              "  <thead>\n",
              "    <tr style=\"text-align: right;\">\n",
              "      <th></th>\n",
              "      <th>dim_1</th>\n",
              "      <th>dim_2</th>\n",
              "      <th>dim_3</th>\n",
              "      <th>dim_4</th>\n",
              "      <th>dim_5</th>\n",
              "      <th>dim_6</th>\n",
              "      <th>dim_7</th>\n",
              "      <th>dim_8</th>\n",
              "      <th>dim_9</th>\n",
              "      <th>dim_10</th>\n",
              "      <th>dim_11</th>\n",
              "      <th>dim_12</th>\n",
              "      <th>dim_13</th>\n",
              "      <th>dim_14</th>\n",
              "      <th>dim_15</th>\n",
              "      <th>dim_16</th>\n",
              "      <th>dim_17</th>\n",
              "      <th>dim_18</th>\n",
              "      <th>dim_19</th>\n",
              "      <th>dim_20</th>\n",
              "      <th>dim_21</th>\n",
              "      <th>dim_22</th>\n",
              "      <th>dim_23</th>\n",
              "      <th>dim_24</th>\n",
              "      <th>dim_25</th>\n",
              "      <th>dim_26</th>\n",
              "      <th>dim_27</th>\n",
              "      <th>dim_28</th>\n",
              "      <th>dim_29</th>\n",
              "      <th>dim_30</th>\n",
              "      <th>dim_31</th>\n",
              "      <th>dim_32</th>\n",
              "      <th>dim_33</th>\n",
              "      <th>dim_34</th>\n",
              "      <th>dim_35</th>\n",
              "      <th>dim_36</th>\n",
              "      <th>dim_37</th>\n",
              "      <th>dim_38</th>\n",
              "      <th>dim_39</th>\n",
              "      <th>dim_40</th>\n",
              "      <th>dim_41</th>\n",
              "      <th>dim_42</th>\n",
              "      <th>dim_43</th>\n",
              "      <th>dim_44</th>\n",
              "      <th>dim_45</th>\n",
              "      <th>dim_46</th>\n",
              "      <th>dim_47</th>\n",
              "      <th>dim_48</th>\n",
              "      <th>dim_49</th>\n",
              "      <th>dim_50</th>\n",
              "    </tr>\n",
              "  </thead>\n",
              "  <tbody>\n",
              "    <tr>\n",
              "      <th>0</th>\n",
              "      <td>0.169620</td>\n",
              "      <td>0.434400</td>\n",
              "      <td>-0.042106</td>\n",
              "      <td>-0.63324</td>\n",
              "      <td>-0.12780</td>\n",
              "      <td>0.53668</td>\n",
              "      <td>-1.06620</td>\n",
              "      <td>-0.32629</td>\n",
              "      <td>-0.50079</td>\n",
              "      <td>0.10247</td>\n",
              "      <td>-0.021968</td>\n",
              "      <td>-0.35105</td>\n",
              "      <td>-0.641530</td>\n",
              "      <td>-0.42454</td>\n",
              "      <td>1.38360</td>\n",
              "      <td>-0.13543</td>\n",
              "      <td>-0.24754</td>\n",
              "      <td>0.22156</td>\n",
              "      <td>-0.65563</td>\n",
              "      <td>0.44424</td>\n",
              "      <td>0.17017</td>\n",
              "      <td>0.35816</td>\n",
              "      <td>0.56379</td>\n",
              "      <td>-0.480440</td>\n",
              "      <td>-0.14765</td>\n",
              "      <td>-1.62900</td>\n",
              "      <td>-0.31308</td>\n",
              "      <td>-0.47217</td>\n",
              "      <td>0.02659</td>\n",
              "      <td>0.47603</td>\n",
              "      <td>3.4619</td>\n",
              "      <td>0.12069</td>\n",
              "      <td>-0.045344</td>\n",
              "      <td>-0.47303</td>\n",
              "      <td>0.285690</td>\n",
              "      <td>-0.077584</td>\n",
              "      <td>-0.16447</td>\n",
              "      <td>0.71810</td>\n",
              "      <td>0.26170</td>\n",
              "      <td>-0.16841</td>\n",
              "      <td>-1.24500</td>\n",
              "      <td>-0.076188</td>\n",
              "      <td>0.17493</td>\n",
              "      <td>0.24507</td>\n",
              "      <td>-0.63801</td>\n",
              "      <td>-0.21096</td>\n",
              "      <td>-0.499180</td>\n",
              "      <td>-0.50108</td>\n",
              "      <td>-0.77040</td>\n",
              "      <td>-0.322340</td>\n",
              "    </tr>\n",
              "    <tr>\n",
              "      <th>1</th>\n",
              "      <td>-0.083242</td>\n",
              "      <td>-0.023838</td>\n",
              "      <td>-0.083964</td>\n",
              "      <td>-0.64821</td>\n",
              "      <td>-0.26937</td>\n",
              "      <td>-0.24057</td>\n",
              "      <td>-0.53924</td>\n",
              "      <td>0.73386</td>\n",
              "      <td>-0.60762</td>\n",
              "      <td>-0.59791</td>\n",
              "      <td>0.478670</td>\n",
              "      <td>0.28169</td>\n",
              "      <td>0.086011</td>\n",
              "      <td>-0.42519</td>\n",
              "      <td>0.46724</td>\n",
              "      <td>0.22510</td>\n",
              "      <td>-1.22500</td>\n",
              "      <td>-0.28048</td>\n",
              "      <td>-0.36225</td>\n",
              "      <td>0.40243</td>\n",
              "      <td>0.80369</td>\n",
              "      <td>-0.21699</td>\n",
              "      <td>0.83494</td>\n",
              "      <td>0.008353</td>\n",
              "      <td>0.37519</td>\n",
              "      <td>-0.61667</td>\n",
              "      <td>0.24404</td>\n",
              "      <td>-0.64431</td>\n",
              "      <td>0.20273</td>\n",
              "      <td>0.42442</td>\n",
              "      <td>1.8757</td>\n",
              "      <td>-0.30970</td>\n",
              "      <td>-0.012824</td>\n",
              "      <td>-0.64928</td>\n",
              "      <td>0.081936</td>\n",
              "      <td>-0.031222</td>\n",
              "      <td>0.27935</td>\n",
              "      <td>0.39467</td>\n",
              "      <td>-0.25122</td>\n",
              "      <td>0.10870</td>\n",
              "      <td>-0.30874</td>\n",
              "      <td>-0.601560</td>\n",
              "      <td>-0.34765</td>\n",
              "      <td>-0.11363</td>\n",
              "      <td>-0.63938</td>\n",
              "      <td>-0.28650</td>\n",
              "      <td>0.017039</td>\n",
              "      <td>-0.86755</td>\n",
              "      <td>-0.32626</td>\n",
              "      <td>0.043695</td>\n",
              "    </tr>\n",
              "  </tbody>\n",
              "</table>\n",
              "</div>"
            ],
            "text/plain": [
              "      dim_1     dim_2     dim_3    dim_4  ...    dim_47   dim_48   dim_49    dim_50\n",
              "0  0.169620  0.434400 -0.042106 -0.63324  ... -0.499180 -0.50108 -0.77040 -0.322340\n",
              "1 -0.083242 -0.023838 -0.083964 -0.64821  ...  0.017039 -0.86755 -0.32626  0.043695\n",
              "\n",
              "[2 rows x 50 columns]"
            ]
          },
          "metadata": {
            "tags": []
          },
          "execution_count": 50
        }
      ]
    },
    {
      "cell_type": "code",
      "metadata": {
        "id": "5UW-dsz5G1f8"
      },
      "source": [
        "# Define model\n",
        "from keras.models import Sequential\n",
        "from keras.layers import Dense\n",
        "from keras.layers import LSTM\n",
        "from keras.layers import Embedding\n",
        "model = Sequential()\n",
        "embed_layer = model.add(Embedding( input_dim = vocabulary_size-1\n",
        "                                  , output_dim = 50 \n",
        "                                  , input_length = seq_len\n",
        "                                  , weights = [word_embeds_pre]\n",
        "                                  , trainable = False\n",
        "                                   ) )\n",
        "model.add(LSTM(100,return_sequences=True))\n",
        "model.add(LSTM(50))\n",
        "model.add(Dense(100,activation='relu'))\n",
        "model.add(Dense(50))\n",
        "\n",
        "# compiling the network\n",
        "model.compile(loss='mse', optimizer='adam'\n",
        ", metrics=['mse', 'mae'])"
      ],
      "execution_count": 51,
      "outputs": []
    },
    {
      "cell_type": "code",
      "metadata": {
        "colab": {
          "base_uri": "https://localhost:8080/"
        },
        "id": "C869lTHNgUfN",
        "outputId": "320124a7-08b9-48aa-f8d2-ce9c0562542f"
      },
      "source": [
        "model.summary()"
      ],
      "execution_count": 52,
      "outputs": [
        {
          "output_type": "stream",
          "text": [
            "Model: \"sequential_1\"\n",
            "_________________________________________________________________\n",
            "Layer (type)                 Output Shape              Param #   \n",
            "=================================================================\n",
            "embedding_1 (Embedding)      (None, 2, 50)             347850    \n",
            "_________________________________________________________________\n",
            "lstm_2 (LSTM)                (None, 2, 100)            60400     \n",
            "_________________________________________________________________\n",
            "lstm_3 (LSTM)                (None, 50)                30200     \n",
            "_________________________________________________________________\n",
            "dense_2 (Dense)              (None, 100)               5100      \n",
            "_________________________________________________________________\n",
            "dense_3 (Dense)              (None, 50)                5050      \n",
            "=================================================================\n",
            "Total params: 448,600\n",
            "Trainable params: 100,750\n",
            "Non-trainable params: 347,850\n",
            "_________________________________________________________________\n"
          ],
          "name": "stdout"
        }
      ]
    },
    {
      "cell_type": "code",
      "metadata": {
        "id": "jGRxk3M2N48x",
        "colab": {
          "base_uri": "https://localhost:8080/"
        },
        "outputId": "a6fe84ba-731f-4c54-ad27-fbacbae3bf3f"
      },
      "source": [
        "#fit model\n",
        "model.fit(train_inputs,train_targets,epochs=55,verbose=1)"
      ],
      "execution_count": null,
      "outputs": [
        {
          "output_type": "stream",
          "text": [
            "Epoch 1/55\n",
            "1144/1144 [==============================] - 27s 5ms/step - loss: 0.2768 - mse: 0.2768 - mae: 0.3881\n",
            "Epoch 2/55\n",
            "1144/1144 [==============================] - 5s 5ms/step - loss: 0.2520 - mse: 0.2520 - mae: 0.3767\n",
            "Epoch 3/55\n",
            "1144/1144 [==============================] - 5s 5ms/step - loss: 0.2495 - mse: 0.2495 - mae: 0.3751\n",
            "Epoch 4/55\n",
            "1144/1144 [==============================] - 5s 5ms/step - loss: 0.2488 - mse: 0.2488 - mae: 0.3743\n",
            "Epoch 5/55\n",
            "1144/1144 [==============================] - 5s 5ms/step - loss: 0.2465 - mse: 0.2465 - mae: 0.3728\n",
            "Epoch 6/55\n",
            "1144/1144 [==============================] - 5s 5ms/step - loss: 0.2461 - mse: 0.2461 - mae: 0.3728\n",
            "Epoch 7/55\n",
            "1144/1144 [==============================] - 5s 5ms/step - loss: 0.2434 - mse: 0.2434 - mae: 0.3707\n",
            "Epoch 8/55\n",
            "1144/1144 [==============================] - 5s 5ms/step - loss: 0.2414 - mse: 0.2414 - mae: 0.3690\n",
            "Epoch 9/55\n",
            " 543/1144 [=============>................] - ETA: 2s - loss: 0.2393 - mse: 0.2393 - mae: 0.3675"
          ],
          "name": "stdout"
        }
      ]
    },
    {
      "cell_type": "code",
      "metadata": {
        "id": "U9dxx8dV5S67"
      },
      "source": [
        "train_targets.shape"
      ],
      "execution_count": null,
      "outputs": []
    },
    {
      "cell_type": "markdown",
      "metadata": {
        "id": "L5f31a7LPFwo"
      },
      "source": [
        "Predicting:"
      ]
    },
    {
      "cell_type": "code",
      "metadata": {
        "id": "DWdSWUd6OCDz",
        "colab": {
          "base_uri": "https://localhost:8080/"
        },
        "outputId": "ed705650-57f5-465e-9d6e-225326c985ae"
      },
      "source": [
        "from keras.preprocessing.sequence import pad_sequences\n",
        "\n",
        "input_text = input().strip().lower()\n",
        "encoded_text = tokenizer.texts_to_sequences([input_text])[0]\n",
        "print( 'tokenizer.texts_to_sequences([input_text]): ', tokenizer.texts_to_sequences([input_text]))\n",
        "print( 'encoded_text: ', encoded_text)\n",
        "pad_encoded = pad_sequences([encoded_text], maxlen=seq_len, truncating='pre')\n",
        "print('pad_encoded: ', pad_encoded)\n",
        "# print('input: ', input_text, '\\nencoded text: ', encoded_text\n",
        "#       , '\\n pad encoded: ' , pad_encoded)"
      ],
      "execution_count": null,
      "outputs": [
        {
          "output_type": "stream",
          "text": [
            "This is\n",
            "tokenizer.texts_to_sequences([input_text]):  [[19, 10]]\n",
            "encoded_text:  [19, 10]\n",
            "pad_encoded:  [[19 10]]\n"
          ],
          "name": "stdout"
        }
      ]
    },
    {
      "cell_type": "code",
      "metadata": {
        "id": "8qhm5_5aPEml",
        "colab": {
          "base_uri": "https://localhost:8080/"
        },
        "outputId": "03b37b52-6c07-456e-ccd8-4ce1c6e4d787"
      },
      "source": [
        "for i in (model.predict(pad_encoded)[0]).argsort()[-3:][::-1]:\n",
        "  pred_word = tokenizer.index_word[i]\n",
        "  print(\"Next word suggestion:\",pred_word)"
      ],
      "execution_count": null,
      "outputs": [
        {
          "output_type": "stream",
          "text": [
            "Next word suggestion: a\n",
            "Next word suggestion: highly\n",
            "Next word suggestion: how\n"
          ],
          "name": "stdout"
        }
      ]
    },
    {
      "cell_type": "code",
      "metadata": {
        "colab": {
          "base_uri": "https://localhost:8080/"
        },
        "id": "ZM2OP1EAS8w-",
        "outputId": "57edade6-bd2f-42e9-aaf7-aa8f03a8765a"
      },
      "source": [
        "# model.predict( )\n",
        "model.predict( train_inputs[1, :] )"
      ],
      "execution_count": null,
      "outputs": [
        {
          "output_type": "execute_result",
          "data": {
            "text/plain": [
              "array([[6.0213956e-10, 2.3910586e-08, 1.3352964e-05, ..., 1.2894859e-19,\n",
              "        5.6390620e-10, 5.5587966e-22],\n",
              "       [2.4292674e-15, 1.9791640e-02, 3.1334955e-02, ..., 2.7527061e-29,\n",
              "        2.1765680e-15, 1.0400500e-28]], dtype=float32)"
            ]
          },
          "metadata": {
            "tags": []
          },
          "execution_count": 63
        }
      ]
    },
    {
      "cell_type": "code",
      "metadata": {
        "colab": {
          "base_uri": "https://localhost:8080/",
          "height": 162
        },
        "id": "0RId4Fc-TyEx",
        "outputId": "69c82071-ad19-4116-b6c8-734595e21090"
      },
      "source": [
        "train_inputs[1, :]"
      ],
      "execution_count": null,
      "outputs": [
        {
          "output_type": "error",
          "ename": "NameError",
          "evalue": "ignored",
          "traceback": [
            "\u001b[0;31m---------------------------------------------------------------------------\u001b[0m",
            "\u001b[0;31mNameError\u001b[0m                                 Traceback (most recent call last)",
            "\u001b[0;32m<ipython-input-1-7b9f2620fb11>\u001b[0m in \u001b[0;36m<module>\u001b[0;34m()\u001b[0m\n\u001b[0;32m----> 1\u001b[0;31m \u001b[0mtrain_inputs\u001b[0m\u001b[0;34m[\u001b[0m\u001b[0;36m1\u001b[0m\u001b[0;34m,\u001b[0m \u001b[0;34m:\u001b[0m\u001b[0;34m]\u001b[0m\u001b[0;34m\u001b[0m\u001b[0;34m\u001b[0m\u001b[0m\n\u001b[0m",
            "\u001b[0;31mNameError\u001b[0m: name 'train_inputs' is not defined"
          ]
        }
      ]
    },
    {
      "cell_type": "code",
      "metadata": {
        "id": "B01qh_LeUFp7"
      },
      "source": [
        ""
      ],
      "execution_count": null,
      "outputs": []
    }
  ]
}