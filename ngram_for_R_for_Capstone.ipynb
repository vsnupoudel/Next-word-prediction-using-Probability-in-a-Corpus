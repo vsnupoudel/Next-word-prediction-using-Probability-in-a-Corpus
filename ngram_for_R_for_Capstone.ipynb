{
  "nbformat": 4,
  "nbformat_minor": 0,
  "metadata": {
    "colab": {
      "name": "ngram for R for Capstone.ipynb",
      "provenance": [],
      "collapsed_sections": [],
      "toc_visible": true,
      "authorship_tag": "ABX9TyM45r/Hgss/RRZ+tJvgt+ox",
      "include_colab_link": true
    },
    "kernelspec": {
      "display_name": "R",
      "name": "ir"
    },
    "language_info": {
      "name": "R"
    }
  },
  "cells": [
    {
      "cell_type": "markdown",
      "metadata": {
        "id": "view-in-github",
        "colab_type": "text"
      },
      "source": [
        "<a href=\"https://colab.research.google.com/github/vsnupoudel/data-science-capstone-JohnsHopkins/blob/master/ngram_for_R_for_Capstone.ipynb\" target=\"_parent\"><img src=\"https://colab.research.google.com/assets/colab-badge.svg\" alt=\"Open In Colab\"/></a>"
      ]
    },
    {
      "cell_type": "markdown",
      "metadata": {
        "id": "2cfHpbP7F0md"
      },
      "source": [
        "## After setting working directory"
      ]
    },
    {
      "cell_type": "code",
      "metadata": {
        "colab": {
          "base_uri": "https://localhost:8080/",
          "height": 34
        },
        "id": "0D6gH9nuF_-a",
        "outputId": "4058e16e-a81e-4cd7-d42e-30d6ae4f332b"
      },
      "source": [
        "getwd()"
      ],
      "execution_count": null,
      "outputs": [
        {
          "output_type": "display_data",
          "data": {
            "text/plain": [
              "[1] \"/content\""
            ],
            "text/latex": "'/content'",
            "text/markdown": "'/content'",
            "text/html": [
              "'/content'"
            ]
          },
          "metadata": {
            "tags": []
          }
        }
      ]
    },
    {
      "cell_type": "code",
      "metadata": {
        "colab": {
          "base_uri": "https://localhost:8080/"
        },
        "id": "Q8YLhC_RwMAO",
        "outputId": "e52bf302-523a-447f-a234-43650a04b6aa"
      },
      "source": [
        "# install.packages( c( \"tm\",\"ngram\",\"dplyr\",\"tidyr\",\"keras\",\"data.table\",\"stringr\") )\n",
        "x <- c( \"tm\", \"ngram\", \"dplyr\", \"tidyr\", \"keras\", \"data.table\",\"stringr\")\n",
        "z = lapply(x, require, character.only = TRUE)"
      ],
      "execution_count": null,
      "outputs": [
        {
          "output_type": "stream",
          "text": [
            "Loading required package: tm\n",
            "\n",
            "Warning message in library(package, lib.loc = lib.loc, character.only = TRUE, logical.return = TRUE, :\n",
            "“there is no package called ‘tm’”\n",
            "Loading required package: ngram\n",
            "\n",
            "Warning message in library(package, lib.loc = lib.loc, character.only = TRUE, logical.return = TRUE, :\n",
            "“there is no package called ‘ngram’”\n",
            "Loading required package: dplyr\n",
            "\n",
            "\n",
            "Attaching package: ‘dplyr’\n",
            "\n",
            "\n",
            "The following objects are masked from ‘package:stats’:\n",
            "\n",
            "    filter, lag\n",
            "\n",
            "\n",
            "The following objects are masked from ‘package:base’:\n",
            "\n",
            "    intersect, setdiff, setequal, union\n",
            "\n",
            "\n",
            "Loading required package: tidyr\n",
            "\n",
            "Loading required package: keras\n",
            "\n",
            "Warning message in library(package, lib.loc = lib.loc, character.only = TRUE, logical.return = TRUE, :\n",
            "“there is no package called ‘keras’”\n",
            "Loading required package: data.table\n",
            "\n",
            "\n",
            "Attaching package: ‘data.table’\n",
            "\n",
            "\n",
            "The following objects are masked from ‘package:dplyr’:\n",
            "\n",
            "    between, first, last\n",
            "\n",
            "\n",
            "Loading required package: stringr\n",
            "\n"
          ],
          "name": "stderr"
        }
      ]
    },
    {
      "cell_type": "code",
      "metadata": {
        "id": "0jdwfAqqrA3g"
      },
      "source": [
        "system(\"gdown --id 1hlvOXJqe3fdxjQilNfLRwPud_KWcOVEE -O '/content/en_US.zip' \")"
      ],
      "execution_count": null,
      "outputs": []
    },
    {
      "cell_type": "code",
      "metadata": {
        "id": "lKzHv9DkxXHp"
      },
      "source": [
        "unzip(zipfile= '/content/en_US.zip', overwrite = TRUE )"
      ],
      "execution_count": null,
      "outputs": []
    },
    {
      "cell_type": "code",
      "metadata": {
        "id": "1-myLUobHnU-"
      },
      "source": [
        "# system(\" gdown --id 1r3MHZdvnlC_BG8z6Jr1td-zJTC2GdqYK -O 'glove.6B.50d.txt'  \")"
      ],
      "execution_count": null,
      "outputs": []
    },
    {
      "cell_type": "code",
      "metadata": {
        "colab": {
          "base_uri": "https://localhost:8080/"
        },
        "id": "ISklhRQgFxJ1",
        "outputId": "433a0efe-5d79-4438-9071-c294bf86e187"
      },
      "source": [
        "# # establish connections with three files\n",
        "tweets <- readLines( '/content/en_US/en_US.twitter.txt')\n",
        "blogs <- readLines( '/content/en_US/en_US.blogs.txt')\n",
        "news <- readLines( '/content/en_US/en_US.news.txt')\n",
        "# # \n",
        "allTogether <- c(blogs, news, tweets)"
      ],
      "execution_count": null,
      "outputs": [
        {
          "output_type": "stream",
          "text": [
            "Warning message in readLines(\"/content/en_US/en_US.twitter.txt\"):\n",
            "“line 167155 appears to contain an embedded nul”\n",
            "Warning message in readLines(\"/content/en_US/en_US.twitter.txt\"):\n",
            "“line 268547 appears to contain an embedded nul”\n",
            "Warning message in readLines(\"/content/en_US/en_US.twitter.txt\"):\n",
            "“line 1274086 appears to contain an embedded nul”\n",
            "Warning message in readLines(\"/content/en_US/en_US.twitter.txt\"):\n",
            "“line 1759032 appears to contain an embedded nul”\n"
          ],
          "name": "stderr"
        }
      ]
    },
    {
      "cell_type": "markdown",
      "metadata": {
        "id": "GZ1_n6arAP8_"
      },
      "source": [
        "sample 10,000 lines"
      ]
    },
    {
      "cell_type": "code",
      "metadata": {
        "colab": {
          "base_uri": "https://localhost:8080/"
        },
        "id": "iMrV0TqAAbXE",
        "outputId": "fd208487-653f-4e26-d8bf-428d3c420a78"
      },
      "source": [
        "length(allTogether)"
      ],
      "execution_count": null,
      "outputs": [
        {
          "output_type": "display_data",
          "data": {
            "text/plain": [
              "[1] 4269678"
            ],
            "text/latex": "4269678",
            "text/markdown": "4269678",
            "text/html": [
              "4269678"
            ]
          },
          "metadata": {
            "tags": []
          }
        }
      ]
    },
    {
      "cell_type": "code",
      "metadata": {
        "colab": {
          "base_uri": "https://localhost:8080/",
          "height": 34
        },
        "id": "BOwAfYvu-ijp",
        "outputId": "fd523390-3c7a-4671-e07b-542fb79cba9a"
      },
      "source": [
        "random <- allTogether[ sample(1:4269678, 200000) ]\n",
        "length(random)"
      ],
      "execution_count": null,
      "outputs": [
        {
          "output_type": "display_data",
          "data": {
            "text/plain": [
              "[1] 200000"
            ],
            "text/latex": "200000",
            "text/markdown": "200000",
            "text/html": [
              "200000"
            ]
          },
          "metadata": {
            "tags": []
          }
        }
      ]
    },
    {
      "cell_type": "code",
      "metadata": {
        "id": "7xoctKW_BOQ1"
      },
      "source": [
        "sample_string <- tolower(gsub(\"[[:punct:]]\",\"\",random))\n",
        "sample_string <- gsub(\"[[:digit:]]\",\"\",sample_string)"
      ],
      "execution_count": null,
      "outputs": []
    },
    {
      "cell_type": "code",
      "metadata": {
        "colab": {
          "base_uri": "https://localhost:8080/"
        },
        "id": "a5kZclcNBM-c",
        "outputId": "d94fea09-3e0d-4332-c830-3b564b3de19b"
      },
      "source": [
        "tail(sample_string,3)"
      ],
      "execution_count": null,
      "outputs": [
        {
          "output_type": "display_data",
          "data": {
            "text/plain": [
              "[1] \" when dating incollege just remember that a mans maturity level is  years shy of his actual age \"\n",
              "[2] \"i hate glendale\"                                                                                 \n",
              "[3] \"hello i hope you had a great weekend\"                                                            "
            ],
            "text/latex": "\\begin{enumerate*}\n\\item ' when dating incollege just remember that a mans maturity level is  years shy of his actual age '\n\\item 'i hate glendale'\n\\item 'hello i hope you had a great weekend'\n\\end{enumerate*}\n",
            "text/markdown": "1. <span style=white-space:pre-wrap>' when dating incollege just remember that a mans maturity level is  years shy of his actual age '</span>\n2. 'i hate glendale'\n3. 'hello i hope you had a great weekend'\n\n\n",
            "text/html": [
              "<style>\n",
              ".list-inline {list-style: none; margin:0; padding: 0}\n",
              ".list-inline>li {display: inline-block}\n",
              ".list-inline>li:not(:last-child)::after {content: \"\\00b7\"; padding: 0 .5ex}\n",
              "</style>\n",
              "<ol class=list-inline><li><span style=white-space:pre-wrap>' when dating incollege just remember that a mans maturity level is  years shy of his actual age '</span></li><li>'i hate glendale'</li><li>'hello i hope you had a great weekend'</li></ol>\n"
            ]
          },
          "metadata": {
            "tags": []
          }
        }
      ]
    },
    {
      "cell_type": "code",
      "metadata": {
        "colab": {
          "base_uri": "https://localhost:8080/",
          "height": 128
        },
        "id": "3uti2A4MeB0B",
        "outputId": "305f3c11-9a2f-4dd4-95c5-17c9ad8ce048"
      },
      "source": [
        "library(ngram)\n",
        "n = 3\n",
        "# ngrams_funct = function (sample_string, n)  {\n",
        "df_string <- data.frame( Text=sample_string, length= str_count(\n",
        "  sample_string , \"\\\\w+\")  )\n",
        "# keep only strings that are equal to greater than n\n",
        "bool <- df_string$length > n+1\n",
        "df_clean  <-    df_string [ bool  , c(\"Text\") ]  \n",
        "Three_grams <-  ngram ( df_clean , n= n) %>% get.phrasetable()%>% \n",
        "separate( col = ngrams , into = as.character( c(1:n) )\n",
        "                ,sep = \"\\\\s+\"\n",
        "                , remove=TRUE ) %>%\n",
        "unite( X , as.character( c(1: (n-1)) ), remove=TRUE, sep=\" \")\n",
        "colnames(Three_grams)[2] <- \"y\""
      ],
      "execution_count": null,
      "outputs": [
        {
          "output_type": "error",
          "ename": "ERROR",
          "evalue": "ignored",
          "traceback": [
            "Error in library(ngram): there is no package called ‘ngram’\nTraceback:\n",
            "1. library(ngram)"
          ]
        }
      ]
    },
    {
      "cell_type": "code",
      "metadata": {
        "id": "UytReEtdThqd"
      },
      "source": [
        "head(Three_grams, 2)"
      ],
      "execution_count": null,
      "outputs": []
    },
    {
      "cell_type": "code",
      "metadata": {
        "id": "hUC6l5byR7b4"
      },
      "source": [
        "n = 4\n",
        "# ngrams_funct = function (sample_string, n)  {\n",
        "df_string <- data.frame( Text=sample_string, length= str_count( sample_string , \"\\\\w+\")  )\n",
        "# keep only strings that are equal to greater than n\n",
        "bool <- df_string$length >= n+1\n",
        "df_clean  <-   df_string [ bool  , c(\"Text\") ]  \n",
        "Four_grams <-  ngram ( df_clean , n= n) %>% get.phrasetable()%>% \n",
        "separate( col = ngrams , into = as.character( c(1:n) )\n",
        "                ,sep = \"\\\\s+\"\n",
        "                , remove=TRUE ) %>%\n",
        "unite( X , as.character( c(1: (n-1)) ), remove=TRUE, sep=\" \")\n",
        "colnames(Four_grams)[2] <- \"y\""
      ],
      "execution_count": null,
      "outputs": []
    },
    {
      "cell_type": "code",
      "metadata": {
        "id": "2tcRY3TZjlV-"
      },
      "source": [
        "head(Four_grams, 2)"
      ],
      "execution_count": null,
      "outputs": []
    },
    {
      "cell_type": "markdown",
      "metadata": {
        "id": "wXn4Pmns_453"
      },
      "source": [
        "Predict from ngrams function"
      ]
    },
    {
      "cell_type": "code",
      "metadata": {
        "id": "iiz0zuRrSb8d"
      },
      "source": [
        "n = 5\n",
        "# ngrams_funct = function (sample_string, n)  {\n",
        "df_string <- data.frame( Text=sample_string, length= str_count( sample_string , \"\\\\w+\")  )\n",
        "# keep only strings that are equal to greater than n\n",
        "bool <- df_string$length >= n+1\n",
        "df_clean  <-   df_string [ bool  , c(\"Text\") ]  \n",
        "Five_grams <-  ngram ( df_clean , n= n) %>% get.phrasetable()%>% \n",
        "separate( col = ngrams , into = as.character( c(1:n) )\n",
        "                ,sep = \"\\\\s+\"\n",
        "                , remove=TRUE ) %>%\n",
        "unite( X , as.character( c(1: (n-1)) ), remove=TRUE, sep=\" \")\n",
        "colnames(Five_grams)[2] <- \"y\""
      ],
      "execution_count": null,
      "outputs": []
    },
    {
      "cell_type": "code",
      "metadata": {
        "id": "QRTtEtTwTtqN"
      },
      "source": [
        "tail(Five_grams,2)"
      ],
      "execution_count": null,
      "outputs": []
    },
    {
      "cell_type": "code",
      "metadata": {
        "id": "HsHTwrQtSgSF"
      },
      "source": [
        "n = 6\n",
        "# ngrams_funct = function (sample_string, n)  {\n",
        "df_string <- data.frame( Text=sample_string, length= str_count( sample_string , \"\\\\w+\")  )\n",
        "# keep only strings that are equal to greater than n\n",
        "bool <- df_string$length >= n+1\n",
        "df_clean  <-   df_string [ bool  , c(\"Text\") ]  \n",
        "Six_grams <-  ngram ( df_clean , n= n) %>% get.phrasetable()%>% \n",
        "separate( col = ngrams , into = as.character( c(1:n) )\n",
        "                ,sep = \"\\\\s+\"\n",
        "                , remove=TRUE ) %>%\n",
        "unite( X , as.character( c(1: (n-1)) ), remove=TRUE, sep=\" \")\n",
        "colnames(Six_grams)[2] <- \"y\""
      ],
      "execution_count": null,
      "outputs": []
    },
    {
      "cell_type": "code",
      "metadata": {
        "id": "306MCPgOSjgG"
      },
      "source": [
        "head(Six_grams, 2)"
      ],
      "execution_count": null,
      "outputs": []
    },
    {
      "cell_type": "markdown",
      "metadata": {
        "id": "NxUv6Zv1Tynl"
      },
      "source": [
        "**Predict from the ngrams:**"
      ]
    },
    {
      "cell_type": "code",
      "metadata": {
        "id": "0JE1OD_bSnWF"
      },
      "source": [
        "All_grams <- rbind(Three_grams, Four_grams, Five_grams, Six_grams)"
      ],
      "execution_count": null,
      "outputs": []
    },
    {
      "cell_type": "code",
      "metadata": {
        "id": "QGmcsDyhYhBV"
      },
      "source": [
        "tail(All_grams, 6)"
      ],
      "execution_count": null,
      "outputs": []
    },
    {
      "cell_type": "code",
      "metadata": {
        "id": "nd8JZ4oVYky5"
      },
      "source": [
        "write.csv(All_grams, 'All_grams.csv')"
      ],
      "execution_count": null,
      "outputs": []
    },
    {
      "cell_type": "code",
      "metadata": {
        "id": "9PIDVYxRf7sY"
      },
      "source": [
        ""
      ],
      "execution_count": null,
      "outputs": []
    }
  ]
}