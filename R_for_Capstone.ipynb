{
  "nbformat": 4,
  "nbformat_minor": 0,
  "metadata": {
    "colab": {
      "name": "R for Capstone.ipynb",
      "provenance": [],
      "collapsed_sections": [],
      "toc_visible": true,
      "authorship_tag": "ABX9TyMXb94+5igYzvynVjwEO4+/",
      "include_colab_link": true
    },
    "kernelspec": {
      "name": "ir",
      "display_name": "R"
    },
    "language_info": {
      "name": "R"
    }
  },
  "cells": [
    {
      "cell_type": "markdown",
      "metadata": {
        "id": "view-in-github",
        "colab_type": "text"
      },
      "source": [
        "<a href=\"https://colab.research.google.com/github/vsnupoudel/data-science-capstone-JohnsHopkins/blob/main/R_for_Capstone.ipynb\" target=\"_parent\"><img src=\"https://colab.research.google.com/assets/colab-badge.svg\" alt=\"Open In Colab\"/></a>"
      ]
    },
    {
      "cell_type": "markdown",
      "metadata": {
        "id": "2cfHpbP7F0md"
      },
      "source": [
        "## After setting working directory"
      ]
    },
    {
      "cell_type": "code",
      "metadata": {
        "colab": {
          "base_uri": "https://localhost:8080/",
          "height": 34
        },
        "id": "0D6gH9nuF_-a",
        "outputId": "00ef3ead-0bb3-472f-9566-1441abbd11de"
      },
      "source": [
        "getwd()"
      ],
      "execution_count": 28,
      "outputs": [
        {
          "output_type": "display_data",
          "data": {
            "text/plain": [
              "[1] \"/content\""
            ],
            "text/latex": "'/content'",
            "text/markdown": "'/content'",
            "text/html": [
              "'/content'"
            ]
          },
          "metadata": {
            "tags": []
          }
        }
      ]
    },
    {
      "cell_type": "code",
      "metadata": {
        "colab": {
          "base_uri": "https://localhost:8080/"
        },
        "id": "Q8YLhC_RwMAO",
        "outputId": "9204361b-4e0a-4485-b081-b6cd3c5342e4"
      },
      "source": [
        "install.packages(\"tm\")\n",
        "install.packages(\"ngram\")\n",
        "install.packages(\"dplyr\")\n",
        "install.packages(\"tidyr\")\n",
        "install.packages(\"keras\")\n",
        "install.packages(\"data.table\")"
      ],
      "execution_count": 29,
      "outputs": [
        {
          "output_type": "stream",
          "text": [
            "Installing package into ‘/usr/local/lib/R/site-library’\n",
            "(as ‘lib’ is unspecified)\n",
            "\n",
            "Installing package into ‘/usr/local/lib/R/site-library’\n",
            "(as ‘lib’ is unspecified)\n",
            "\n",
            "Installing package into ‘/usr/local/lib/R/site-library’\n",
            "(as ‘lib’ is unspecified)\n",
            "\n",
            "Installing package into ‘/usr/local/lib/R/site-library’\n",
            "(as ‘lib’ is unspecified)\n",
            "\n",
            "Installing package into ‘/usr/local/lib/R/site-library’\n",
            "(as ‘lib’ is unspecified)\n",
            "\n",
            "Installing package into ‘/usr/local/lib/R/site-library’\n",
            "(as ‘lib’ is unspecified)\n",
            "\n"
          ],
          "name": "stderr"
        }
      ]
    },
    {
      "cell_type": "code",
      "metadata": {
        "id": "0jdwfAqqrA3g"
      },
      "source": [
        "system(\"gdown --id 1hlvOXJqe3fdxjQilNfLRwPud_KWcOVEE -O '/content/en_US.zip' \")"
      ],
      "execution_count": 30,
      "outputs": []
    },
    {
      "cell_type": "code",
      "metadata": {
        "id": "lKzHv9DkxXHp"
      },
      "source": [
        "unzip(zipfile= '/content/en_US.zip', overwrite = TRUE )"
      ],
      "execution_count": 31,
      "outputs": []
    },
    {
      "cell_type": "code",
      "metadata": {
        "id": "1-myLUobHnU-"
      },
      "source": [
        "system(\" gdown --id 1r3MHZdvnlC_BG8z6Jr1td-zJTC2GdqYK -O 'glove.6B.50d.txt'  \")"
      ],
      "execution_count": 34,
      "outputs": []
    },
    {
      "cell_type": "code",
      "metadata": {
        "colab": {
          "base_uri": "https://localhost:8080/",
          "height": 308
        },
        "id": "ISklhRQgFxJ1",
        "outputId": "a82cc17e-e26b-406d-992e-0d3bcf8c4cf3"
      },
      "source": [
        "# # establish connections with three files \n",
        "print( getwd())\n",
        "con3 <- file( '/content/en_US/en_US.twitter.txt', 'r')\n",
        "text3 <- readLines(con3)\n",
        "close(con3)\n",
        "\n",
        "# # sample 0.01% data\n",
        "sample_index <- sample(seq(text3), 0.1*length(text3))\n",
        "sample_text <- text3[sample_index]\n",
        "remove(text3)\n",
        "gc()\n",
        "dir.create(file.path(\"./sample_text\"))\n",
        "con4 <- file('./sample_text/sampled_text.txt')\n",
        "writeLines(sample_text, con = con4)\n",
        "close(con4)"
      ],
      "execution_count": 32,
      "outputs": [
        {
          "output_type": "stream",
          "text": [
            "[1] \"/content\"\n"
          ],
          "name": "stdout"
        },
        {
          "output_type": "stream",
          "text": [
            "Warning message in readLines(con3):\n",
            "“line 167155 appears to contain an embedded nul”\n",
            "Warning message in readLines(con3):\n",
            "“line 268547 appears to contain an embedded nul”\n",
            "Warning message in readLines(con3):\n",
            "“line 1274086 appears to contain an embedded nul”\n",
            "Warning message in readLines(con3):\n",
            "“line 1759032 appears to contain an embedded nul”\n"
          ],
          "name": "stderr"
        },
        {
          "output_type": "display_data",
          "data": {
            "text/plain": [
              "       used     (Mb)  gc trigger (Mb)  max used (Mb)  \n",
              "Ncells  2372447 126.8 14827866   791.9 23168540 1237.4\n",
              "Vcells 22712950 173.3 76865147   586.5 76856230  586.4"
            ],
            "text/latex": "A matrix: 2 × 6 of type dbl\n\\begin{tabular}{r|llllll}\n  & used & (Mb) & gc trigger & (Mb) & max used & (Mb)\\\\\n\\hline\n\tNcells &  2372447 & 126.8 & 14827866 & 791.9 & 23168540 & 1237.4\\\\\n\tVcells & 22712950 & 173.3 & 76865147 & 586.5 & 76856230 &  586.4\\\\\n\\end{tabular}\n",
            "text/markdown": "\nA matrix: 2 × 6 of type dbl\n\n| <!--/--> | used | (Mb) | gc trigger | (Mb) | max used | (Mb) |\n|---|---|---|---|---|---|---|\n| Ncells |  2372447 | 126.8 | 14827866 | 791.9 | 23168540 | 1237.4 |\n| Vcells | 22712950 | 173.3 | 76865147 | 586.5 | 76856230 |  586.4 |\n\n",
            "text/html": [
              "<table class=\"dataframe\">\n",
              "<caption>A matrix: 2 × 6 of type dbl</caption>\n",
              "<thead>\n",
              "\t<tr><th></th><th scope=col>used</th><th scope=col>(Mb)</th><th scope=col>gc trigger</th><th scope=col>(Mb)</th><th scope=col>max used</th><th scope=col>(Mb)</th></tr>\n",
              "</thead>\n",
              "<tbody>\n",
              "\t<tr><th scope=row>Ncells</th><td> 2372447</td><td>126.8</td><td>14827866</td><td>791.9</td><td>23168540</td><td>1237.4</td></tr>\n",
              "\t<tr><th scope=row>Vcells</th><td>22712950</td><td>173.3</td><td>76865147</td><td>586.5</td><td>76856230</td><td> 586.4</td></tr>\n",
              "</tbody>\n",
              "</table>\n"
            ]
          },
          "metadata": {
            "tags": []
          }
        },
        {
          "output_type": "stream",
          "text": [
            "Warning message in dir.create(file.path(\"./sample_text\")):\n",
            "“'./sample_text' already exists”\n"
          ],
          "name": "stderr"
        }
      ]
    },
    {
      "cell_type": "code",
      "metadata": {
        "colab": {
          "base_uri": "https://localhost:8080/",
          "height": 392
        },
        "id": "hWIBvzbInbHT",
        "outputId": "2926aaf7-469c-474a-e07f-9372f39681ce"
      },
      "source": [
        "# Using the tm library for preprocessing the sample text\n",
        "library(tm)\n",
        "data_folder = DirSource(directory = \"./sample_text\",\n",
        "            encoding = \"UTF-8\",\n",
        "            mode = \"text\")\n",
        "# load the file into Corpus object\n",
        "docs <- SimpleCorpus(data_folder )\n",
        "# Converting to lowercase:\n",
        "docs <- tm_map(docs, tolower)\n",
        "docs <- tm_map(docs, PlainTextDocument)\n",
        "\n",
        "\n",
        "library(ngram)\n",
        "string <- docs[[1]]$content\n",
        "# trying different libraries\n",
        "# library(tokenizers)\n",
        "# library(word2vec)\n",
        "# string.summary(string)\n",
        "ng <- ngram (string, n=3)\n",
        "# get.phrasetable(ng)\n",
        "# tokens <- tokenize_ngrams(string , n = 3 )\n",
        "\n",
        "# As a data frame\n",
        "df <- data.frame(get.phrasetable(ng))\n",
        "\n",
        "# Put the last word as target\n",
        "library(tidyr)\n",
        "sep<- separate(data = df, col = ngrams , into = c(\"X1\",\"X2\", \"y\")\n",
        "               # ,sep = \"^\\\\w+\\\\s+\"\n",
        "               # , remove=FALSE\n",
        "               )\n",
        "# Xy <- unite(sep , X , c(X1, X2 ), remove=TRUE, sep=\" \")\n",
        "df <- data.frame(sep)\n",
        "remove(sep)\n",
        "head(df)"
      ],
      "execution_count": 33,
      "outputs": [
        {
          "output_type": "stream",
          "text": [
            "Warning message in tm_map.SimpleCorpus(docs, PlainTextDocument):\n",
            "“transformation drops documents”\n",
            "Warning message:\n",
            "“Expected 3 pieces. Additional pieces discarded in 2293077 rows [1, 2, 3, 4, 5, 6, 7, 8, 9, 10, 11, 12, 13, 14, 15, 16, 17, 18, 19, 20, ...].”\n",
            "Warning message:\n",
            "“Expected 3 pieces. Missing pieces filled with `NA` in 890 rows [339, 896, 4504, 6570, 8210, 9840, 11024, 13467, 15789, 18728, 23001, 31564, 31819, 34328, 34795, 35516, 36381, 42307, 42933, 43334, ...].”\n"
          ],
          "name": "stderr"
        },
        {
          "output_type": "display_data",
          "data": {
            "text/plain": [
              "  X1      X2      y    freq prop        \n",
              "1 going   to      be   702  0.0002502679\n",
              "2 looking forward to   600  0.0002139042\n",
              "3 thanks  for     the  583  0.0002078436\n",
              "4 a       lot     of   583  0.0002078436\n",
              "5 can     t       wait 571  0.0002035655\n",
              "6 to      be      a    562  0.0002003569"
            ],
            "text/latex": "A data.frame: 6 × 5\n\\begin{tabular}{r|lllll}\n  & X1 & X2 & y & freq & prop\\\\\n  & <chr> & <chr> & <chr> & <int> & <dbl>\\\\\n\\hline\n\t1 & going   & to      & be   & 702 & 0.0002502679\\\\\n\t2 & looking & forward & to   & 600 & 0.0002139042\\\\\n\t3 & thanks  & for     & the  & 583 & 0.0002078436\\\\\n\t4 & a       & lot     & of   & 583 & 0.0002078436\\\\\n\t5 & can     & t       & wait & 571 & 0.0002035655\\\\\n\t6 & to      & be      & a    & 562 & 0.0002003569\\\\\n\\end{tabular}\n",
            "text/markdown": "\nA data.frame: 6 × 5\n\n| <!--/--> | X1 &lt;chr&gt; | X2 &lt;chr&gt; | y &lt;chr&gt; | freq &lt;int&gt; | prop &lt;dbl&gt; |\n|---|---|---|---|---|---|\n| 1 | going   | to      | be   | 702 | 0.0002502679 |\n| 2 | looking | forward | to   | 600 | 0.0002139042 |\n| 3 | thanks  | for     | the  | 583 | 0.0002078436 |\n| 4 | a       | lot     | of   | 583 | 0.0002078436 |\n| 5 | can     | t       | wait | 571 | 0.0002035655 |\n| 6 | to      | be      | a    | 562 | 0.0002003569 |\n\n",
            "text/html": [
              "<table class=\"dataframe\">\n",
              "<caption>A data.frame: 6 × 5</caption>\n",
              "<thead>\n",
              "\t<tr><th></th><th scope=col>X1</th><th scope=col>X2</th><th scope=col>y</th><th scope=col>freq</th><th scope=col>prop</th></tr>\n",
              "\t<tr><th></th><th scope=col>&lt;chr&gt;</th><th scope=col>&lt;chr&gt;</th><th scope=col>&lt;chr&gt;</th><th scope=col>&lt;int&gt;</th><th scope=col>&lt;dbl&gt;</th></tr>\n",
              "</thead>\n",
              "<tbody>\n",
              "\t<tr><th scope=row>1</th><td>going  </td><td>to     </td><td>be  </td><td>702</td><td>0.0002502679</td></tr>\n",
              "\t<tr><th scope=row>2</th><td>looking</td><td>forward</td><td>to  </td><td>600</td><td>0.0002139042</td></tr>\n",
              "\t<tr><th scope=row>3</th><td>thanks </td><td>for    </td><td>the </td><td>583</td><td>0.0002078436</td></tr>\n",
              "\t<tr><th scope=row>4</th><td>a      </td><td>lot    </td><td>of  </td><td>583</td><td>0.0002078436</td></tr>\n",
              "\t<tr><th scope=row>5</th><td>can    </td><td>t      </td><td>wait</td><td>571</td><td>0.0002035655</td></tr>\n",
              "\t<tr><th scope=row>6</th><td>to     </td><td>be     </td><td>a   </td><td>562</td><td>0.0002003569</td></tr>\n",
              "</tbody>\n",
              "</table>\n"
            ]
          },
          "metadata": {
            "tags": []
          }
        }
      ]
    },
    {
      "cell_type": "code",
      "metadata": {
        "id": "5x4FcDYvv8BU",
        "colab": {
          "base_uri": "https://localhost:8080/",
          "height": 426
        },
        "outputId": "5117572c-3a6e-4f27-f2fd-2d60b6a822a9"
      },
      "source": [
        "# Try downloading pre-trained word embeddings instead of training new\n",
        "# This example shows how one can quickly load glove vectors\n",
        "# and train a Keras model in R\n",
        "\n",
        "library(keras)\n",
        "library(dplyr)\n",
        "\n",
        "# Load the word embeddings as df \n",
        "# load glove vectors into R\n",
        "vectors = data.table::fread('glove.6B.50d.txt', data.table = F\n",
        "                            ,  encoding = 'UTF-8')\n",
        "colnames(vectors) = c('word',paste('dim',1:50,sep = '_'))\n",
        "\n",
        "vecDf <- as_tibble(vectors)\n",
        "head(vecDf)"
      ],
      "execution_count": 35,
      "outputs": [
        {
          "output_type": "stream",
          "text": [
            "Warning message in data.table::fread(\"glove.6B.50d.txt\", data.table = F, encoding = \"UTF-8\"):\n",
            "“Found and resolved improper quoting in first 100 rows. If the fields are not quoted (e.g. field separator does not appear within any field), try quote=\"\" to avoid this warning.”\n"
          ],
          "name": "stderr"
        },
        {
          "output_type": "display_data",
          "data": {
            "text/plain": [
              "  word dim_1    dim_2     dim_3    dim_4     dim_5   dim_6     dim_7   \n",
              "1 the  0.418000  0.249680 -0.41242  0.121700 0.34527 -0.044457 -0.49688\n",
              "2 ,    0.013441  0.236820 -0.16899  0.409510 0.63812  0.477090 -0.42852\n",
              "3 .    0.151640  0.301770 -0.16763  0.176840 0.31719  0.339730 -0.43478\n",
              "4 of   0.708530  0.570880 -0.47160  0.180480 0.54449  0.726030  0.18157\n",
              "5 to   0.680470 -0.039263  0.30186 -0.177920 0.42962  0.032246 -0.41376\n",
              "6 and  0.268180  0.143460 -0.27877  0.016257 0.11384  0.699230 -0.51332\n",
              "  dim_8    dim_9       ⋯ dim_41      dim_42    dim_43    dim_44    dim_45  \n",
              "1 -0.17862 -0.00066023 ⋯ -2.9871e-01 -0.157490 -0.347580 -0.045637 -0.44251\n",
              "2 -0.55641 -0.36400000 ⋯ -8.0262e-02  0.630030  0.321110 -0.467650  0.22786\n",
              "3 -0.31086 -0.44999000 ⋯ -6.3681e-05  0.068987  0.087939 -0.102850 -0.13931\n",
              "4 -0.52393  0.10381000 ⋯ -3.4727e-01  0.284830  0.075693 -0.062178 -0.38988\n",
              "5  0.13228 -0.29847000 ⋯ -9.4375e-02  0.018324  0.210480 -0.030880 -0.19722\n",
              "6 -0.47368 -0.33075000 ⋯ -6.9043e-02  0.368850  0.251680 -0.245170  0.25381\n",
              "  dim_46   dim_47     dim_48    dim_49    dim_50  \n",
              "1 0.187850  0.0027849 -0.184110 -0.115140 -0.78581\n",
              "2 0.360340 -0.3781800 -0.566570  0.044691  0.30392\n",
              "3 0.223140 -0.0808030 -0.356520  0.016413  0.10216\n",
              "4 0.229020 -0.2161700 -0.225620 -0.093918 -0.80375\n",
              "5 0.082279 -0.0943400 -0.073297 -0.064699 -0.26044\n",
              "6 0.136700 -0.3117800 -0.632100 -0.250280 -0.38097"
            ],
            "text/latex": "A tibble: 6 × 51\n\\begin{tabular}{lllllllllllllllllllll}\n word & dim\\_1 & dim\\_2 & dim\\_3 & dim\\_4 & dim\\_5 & dim\\_6 & dim\\_7 & dim\\_8 & dim\\_9 & ⋯ & dim\\_41 & dim\\_42 & dim\\_43 & dim\\_44 & dim\\_45 & dim\\_46 & dim\\_47 & dim\\_48 & dim\\_49 & dim\\_50\\\\\n <chr> & <dbl> & <dbl> & <dbl> & <dbl> & <dbl> & <dbl> & <dbl> & <dbl> & <dbl> & ⋯ & <dbl> & <dbl> & <dbl> & <dbl> & <dbl> & <dbl> & <dbl> & <dbl> & <dbl> & <dbl>\\\\\n\\hline\n\t the & 0.418000 &  0.249680 & -0.41242 &  0.121700 & 0.34527 & -0.044457 & -0.49688 & -0.17862 & -0.00066023 & ⋯ & -2.9871e-01 & -0.157490 & -0.347580 & -0.045637 & -0.44251 & 0.187850 &  0.0027849 & -0.184110 & -0.115140 & -0.78581\\\\\n\t ,   & 0.013441 &  0.236820 & -0.16899 &  0.409510 & 0.63812 &  0.477090 & -0.42852 & -0.55641 & -0.36400000 & ⋯ & -8.0262e-02 &  0.630030 &  0.321110 & -0.467650 &  0.22786 & 0.360340 & -0.3781800 & -0.566570 &  0.044691 &  0.30392\\\\\n\t .   & 0.151640 &  0.301770 & -0.16763 &  0.176840 & 0.31719 &  0.339730 & -0.43478 & -0.31086 & -0.44999000 & ⋯ & -6.3681e-05 &  0.068987 &  0.087939 & -0.102850 & -0.13931 & 0.223140 & -0.0808030 & -0.356520 &  0.016413 &  0.10216\\\\\n\t of  & 0.708530 &  0.570880 & -0.47160 &  0.180480 & 0.54449 &  0.726030 &  0.18157 & -0.52393 &  0.10381000 & ⋯ & -3.4727e-01 &  0.284830 &  0.075693 & -0.062178 & -0.38988 & 0.229020 & -0.2161700 & -0.225620 & -0.093918 & -0.80375\\\\\n\t to  & 0.680470 & -0.039263 &  0.30186 & -0.177920 & 0.42962 &  0.032246 & -0.41376 &  0.13228 & -0.29847000 & ⋯ & -9.4375e-02 &  0.018324 &  0.210480 & -0.030880 & -0.19722 & 0.082279 & -0.0943400 & -0.073297 & -0.064699 & -0.26044\\\\\n\t and & 0.268180 &  0.143460 & -0.27877 &  0.016257 & 0.11384 &  0.699230 & -0.51332 & -0.47368 & -0.33075000 & ⋯ & -6.9043e-02 &  0.368850 &  0.251680 & -0.245170 &  0.25381 & 0.136700 & -0.3117800 & -0.632100 & -0.250280 & -0.38097\\\\\n\\end{tabular}\n",
            "text/markdown": "\nA tibble: 6 × 51\n\n| word &lt;chr&gt; | dim_1 &lt;dbl&gt; | dim_2 &lt;dbl&gt; | dim_3 &lt;dbl&gt; | dim_4 &lt;dbl&gt; | dim_5 &lt;dbl&gt; | dim_6 &lt;dbl&gt; | dim_7 &lt;dbl&gt; | dim_8 &lt;dbl&gt; | dim_9 &lt;dbl&gt; | ⋯ ⋯ | dim_41 &lt;dbl&gt; | dim_42 &lt;dbl&gt; | dim_43 &lt;dbl&gt; | dim_44 &lt;dbl&gt; | dim_45 &lt;dbl&gt; | dim_46 &lt;dbl&gt; | dim_47 &lt;dbl&gt; | dim_48 &lt;dbl&gt; | dim_49 &lt;dbl&gt; | dim_50 &lt;dbl&gt; |\n|---|---|---|---|---|---|---|---|---|---|---|---|---|---|---|---|---|---|---|---|---|\n| the | 0.418000 |  0.249680 | -0.41242 |  0.121700 | 0.34527 | -0.044457 | -0.49688 | -0.17862 | -0.00066023 | ⋯ | -2.9871e-01 | -0.157490 | -0.347580 | -0.045637 | -0.44251 | 0.187850 |  0.0027849 | -0.184110 | -0.115140 | -0.78581 |\n| ,   | 0.013441 |  0.236820 | -0.16899 |  0.409510 | 0.63812 |  0.477090 | -0.42852 | -0.55641 | -0.36400000 | ⋯ | -8.0262e-02 |  0.630030 |  0.321110 | -0.467650 |  0.22786 | 0.360340 | -0.3781800 | -0.566570 |  0.044691 |  0.30392 |\n| .   | 0.151640 |  0.301770 | -0.16763 |  0.176840 | 0.31719 |  0.339730 | -0.43478 | -0.31086 | -0.44999000 | ⋯ | -6.3681e-05 |  0.068987 |  0.087939 | -0.102850 | -0.13931 | 0.223140 | -0.0808030 | -0.356520 |  0.016413 |  0.10216 |\n| of  | 0.708530 |  0.570880 | -0.47160 |  0.180480 | 0.54449 |  0.726030 |  0.18157 | -0.52393 |  0.10381000 | ⋯ | -3.4727e-01 |  0.284830 |  0.075693 | -0.062178 | -0.38988 | 0.229020 | -0.2161700 | -0.225620 | -0.093918 | -0.80375 |\n| to  | 0.680470 | -0.039263 |  0.30186 | -0.177920 | 0.42962 |  0.032246 | -0.41376 |  0.13228 | -0.29847000 | ⋯ | -9.4375e-02 |  0.018324 |  0.210480 | -0.030880 | -0.19722 | 0.082279 | -0.0943400 | -0.073297 | -0.064699 | -0.26044 |\n| and | 0.268180 |  0.143460 | -0.27877 |  0.016257 | 0.11384 |  0.699230 | -0.51332 | -0.47368 | -0.33075000 | ⋯ | -6.9043e-02 |  0.368850 |  0.251680 | -0.245170 |  0.25381 | 0.136700 | -0.3117800 | -0.632100 | -0.250280 | -0.38097 |\n\n",
            "text/html": [
              "<table class=\"dataframe\">\n",
              "<caption>A tibble: 6 × 51</caption>\n",
              "<thead>\n",
              "\t<tr><th scope=col>word</th><th scope=col>dim_1</th><th scope=col>dim_2</th><th scope=col>dim_3</th><th scope=col>dim_4</th><th scope=col>dim_5</th><th scope=col>dim_6</th><th scope=col>dim_7</th><th scope=col>dim_8</th><th scope=col>dim_9</th><th scope=col>⋯</th><th scope=col>dim_41</th><th scope=col>dim_42</th><th scope=col>dim_43</th><th scope=col>dim_44</th><th scope=col>dim_45</th><th scope=col>dim_46</th><th scope=col>dim_47</th><th scope=col>dim_48</th><th scope=col>dim_49</th><th scope=col>dim_50</th></tr>\n",
              "\t<tr><th scope=col>&lt;chr&gt;</th><th scope=col>&lt;dbl&gt;</th><th scope=col>&lt;dbl&gt;</th><th scope=col>&lt;dbl&gt;</th><th scope=col>&lt;dbl&gt;</th><th scope=col>&lt;dbl&gt;</th><th scope=col>&lt;dbl&gt;</th><th scope=col>&lt;dbl&gt;</th><th scope=col>&lt;dbl&gt;</th><th scope=col>&lt;dbl&gt;</th><th scope=col>⋯</th><th scope=col>&lt;dbl&gt;</th><th scope=col>&lt;dbl&gt;</th><th scope=col>&lt;dbl&gt;</th><th scope=col>&lt;dbl&gt;</th><th scope=col>&lt;dbl&gt;</th><th scope=col>&lt;dbl&gt;</th><th scope=col>&lt;dbl&gt;</th><th scope=col>&lt;dbl&gt;</th><th scope=col>&lt;dbl&gt;</th><th scope=col>&lt;dbl&gt;</th></tr>\n",
              "</thead>\n",
              "<tbody>\n",
              "\t<tr><td>the</td><td>0.418000</td><td> 0.249680</td><td>-0.41242</td><td> 0.121700</td><td>0.34527</td><td>-0.044457</td><td>-0.49688</td><td>-0.17862</td><td>-0.00066023</td><td>⋯</td><td>-2.9871e-01</td><td>-0.157490</td><td>-0.347580</td><td>-0.045637</td><td>-0.44251</td><td>0.187850</td><td> 0.0027849</td><td>-0.184110</td><td>-0.115140</td><td>-0.78581</td></tr>\n",
              "\t<tr><td>,  </td><td>0.013441</td><td> 0.236820</td><td>-0.16899</td><td> 0.409510</td><td>0.63812</td><td> 0.477090</td><td>-0.42852</td><td>-0.55641</td><td>-0.36400000</td><td>⋯</td><td>-8.0262e-02</td><td> 0.630030</td><td> 0.321110</td><td>-0.467650</td><td> 0.22786</td><td>0.360340</td><td>-0.3781800</td><td>-0.566570</td><td> 0.044691</td><td> 0.30392</td></tr>\n",
              "\t<tr><td>.  </td><td>0.151640</td><td> 0.301770</td><td>-0.16763</td><td> 0.176840</td><td>0.31719</td><td> 0.339730</td><td>-0.43478</td><td>-0.31086</td><td>-0.44999000</td><td>⋯</td><td>-6.3681e-05</td><td> 0.068987</td><td> 0.087939</td><td>-0.102850</td><td>-0.13931</td><td>0.223140</td><td>-0.0808030</td><td>-0.356520</td><td> 0.016413</td><td> 0.10216</td></tr>\n",
              "\t<tr><td>of </td><td>0.708530</td><td> 0.570880</td><td>-0.47160</td><td> 0.180480</td><td>0.54449</td><td> 0.726030</td><td> 0.18157</td><td>-0.52393</td><td> 0.10381000</td><td>⋯</td><td>-3.4727e-01</td><td> 0.284830</td><td> 0.075693</td><td>-0.062178</td><td>-0.38988</td><td>0.229020</td><td>-0.2161700</td><td>-0.225620</td><td>-0.093918</td><td>-0.80375</td></tr>\n",
              "\t<tr><td>to </td><td>0.680470</td><td>-0.039263</td><td> 0.30186</td><td>-0.177920</td><td>0.42962</td><td> 0.032246</td><td>-0.41376</td><td> 0.13228</td><td>-0.29847000</td><td>⋯</td><td>-9.4375e-02</td><td> 0.018324</td><td> 0.210480</td><td>-0.030880</td><td>-0.19722</td><td>0.082279</td><td>-0.0943400</td><td>-0.073297</td><td>-0.064699</td><td>-0.26044</td></tr>\n",
              "\t<tr><td>and</td><td>0.268180</td><td> 0.143460</td><td>-0.27877</td><td> 0.016257</td><td>0.11384</td><td> 0.699230</td><td>-0.51332</td><td>-0.47368</td><td>-0.33075000</td><td>⋯</td><td>-6.9043e-02</td><td> 0.368850</td><td> 0.251680</td><td>-0.245170</td><td> 0.25381</td><td>0.136700</td><td>-0.3117800</td><td>-0.632100</td><td>-0.250280</td><td>-0.38097</td></tr>\n",
              "</tbody>\n",
              "</table>\n"
            ]
          },
          "metadata": {
            "tags": []
          }
        }
      ]
    },
    {
      "cell_type": "code",
      "metadata": {
        "id": "XhSmo7FLylhL"
      },
      "source": [
        "# Convert the ngrams df to vectors \n",
        "# define parameters of Keras model\n",
        "library(keras)\n",
        "max_words = 1e4\n",
        "maxlen = 2\n",
        "dim_size = 50\n",
        "# tokenize the input data and then fit the created object\n",
        "X_seg = text_tokenizer(num_words = max_words ) %>%\n",
        "  fit_text_tokenizer( paste( df$X1, df$X2 , sep=\" \") )\n",
        "\n",
        "# apply tokenizer to the text and get indices instead of words\n",
        "# later pad the sequence\n",
        "Xtrain = texts_to_sequences(X_seg , paste( df$X1, df$X2 , sep=\" \") ) \n",
        "\n",
        "#tokenize Ytrain as well\n",
        "# tokenize the input data and then fit the created object\n",
        "Y_seg = text_tokenizer(num_words = max_words ) %>%\n",
        "  fit_text_tokenizer( df$y )\n",
        "\n",
        "# apply tokenizer to the text and get indices instead of words\n",
        "# later pad the sequence\n",
        "Ytrain = texts_to_sequences(Y_seg , df$y ) "
      ],
      "execution_count": 36,
      "outputs": []
    },
    {
      "cell_type": "code",
      "metadata": {
        "id": "_w-IMZF37TYO"
      },
      "source": [
        "# Unlist and make dataframe  and join with \n",
        "# downloaded pretrained word Embeddings\n",
        "\n",
        "# unlist word indices\n",
        "word_indices = unlist( c( X_seg$word_index, Y_seg$word_index))\n",
        "# word_indices_Y = unlist(Y_seg$word_index)\n",
        "\n",
        "# then place them into data.frame \n",
        "dic = data.frame(word = names(word_indices) , key = word_indices, stringsAsFactors = FALSE) %>%\n",
        "  arrange(key) %>% .[1:max_words,]\n",
        "\n",
        "# join the words with GloVe vectors and\n",
        "# if word does not exist in GloVe, then fill NA's with 0\n",
        "word_embeds = dic %>% left_join(vectors) %>% .[,3:52] %>% replace(., is.na(.), 0) %>% as.matrix()"
      ],
      "execution_count": null,
      "outputs": []
    },
    {
      "cell_type": "code",
      "metadata": {
        "id": "CSujXYPF4Q-v"
      },
      "source": [
        "# Xtrain <- data.frame(Xtrain)"
      ],
      "execution_count": null,
      "outputs": []
    },
    {
      "cell_type": "code",
      "metadata": {
        "id": "ly7O7UJVM7M9"
      },
      "source": [
        "# Ytrain <- factor( Ytrain, levels= unique( dic$key ) )"
      ],
      "execution_count": null,
      "outputs": []
    },
    {
      "cell_type": "code",
      "metadata": {
        "id": "XuCWaLrIO9UA"
      },
      "source": [
        "head( Ytrain)"
      ],
      "execution_count": null,
      "outputs": []
    },
    {
      "cell_type": "code",
      "metadata": {
        "id": "xDlesbTkyxJ8"
      },
      "source": [
        "# Use Keras Functional API \n",
        "input = layer_input(shape = list(maxlen), name = \"input\")\n",
        "\n",
        "model = input %>%\n",
        "  layer_embedding(input_dim = max_words, output_dim = dim_size, input_length = maxlen,\n",
        "                  # put weights into list and do not allow training\n",
        "                  weights = list(word_embeds), trainable = FALSE) %>%\n",
        "  \n",
        "  layer_lstm(units = 10 , return_sequences = TRUE )%>%\n",
        "  layer_lstm(units = 10 , return_sequences = TRUE )\n",
        "\n",
        "  lastLayer = model %>% layer_dense(units= length( unique( dic$key )) , activation='softmax' )\n",
        "  \n",
        "output =   lastLayer\n",
        "\n",
        "model = keras_model(input, output)\n",
        "\n",
        "# Compile and fit\n",
        "# instead of accuracy we can use \"AUC\" metrics from \"tensorflow.keras\"\n",
        "model %>% compile(\n",
        "  optimizer = \"adam\",\n",
        "  loss = \"categorical_crossentropy\"\n",
        ")"
      ],
      "execution_count": null,
      "outputs": []
    },
    {
      "cell_type": "code",
      "metadata": {
        "id": "K_jWXYYwy5W4"
      },
      "source": [
        "history = model %>% keras::fit(\n",
        "  Xtrain, Ytrain,\n",
        "  epochs = 2\n",
        ")"
      ],
      "execution_count": null,
      "outputs": []
    },
    {
      "cell_type": "code",
      "metadata": {
        "id": "o0tDWpGx1yMH"
      },
      "source": [
        "length( unique( dic$word ))"
      ],
      "execution_count": null,
      "outputs": []
    },
    {
      "cell_type": "code",
      "metadata": {
        "id": "57hFaj04OEOK"
      },
      "source": [
        ""
      ],
      "execution_count": null,
      "outputs": []
    }
  ]
}